{
 "cells": [
  {
   "cell_type": "code",
   "execution_count": 23,
   "outputs": [],
   "source": [
    "import numpy as np\n"
   ],
   "metadata": {
    "collapsed": false,
    "pycharm": {
     "name": "#%%\n"
    }
   }
  },
  {
   "cell_type": "code",
   "execution_count": 24,
   "outputs": [],
   "source": [
    "from product import Product\n",
    "from json import load\n",
    "\n",
    "with open('agora_hack_products.json', encoding='utf-8') as file:\n",
    "    all_products = load(file)\n",
    "\n",
    "all_products = [Product(**p) for p in all_products]"
   ],
   "metadata": {
    "collapsed": false,
    "pycharm": {
     "name": "#%%\n"
    }
   }
  },
  {
   "cell_type": "code",
   "execution_count": 24,
   "outputs": [],
   "source": [],
   "metadata": {
    "collapsed": false,
    "pycharm": {
     "name": "#%%\n"
    }
   }
  },
  {
   "cell_type": "code",
   "execution_count": 25,
   "outputs": [],
   "source": [
    "references = [p for p in all_products if p.is_reference]\n",
    "references_id_set = set([ref.product_id for ref in references])\n",
    "products = [p for p in all_products if p.product_id not in references_id_set]"
   ],
   "metadata": {
    "collapsed": false,
    "pycharm": {
     "name": "#%%\n"
    }
   }
  },
  {
   "cell_type": "code",
   "execution_count": 26,
   "outputs": [],
   "source": [
    "from sklearn.model_selection import train_test_split\n",
    "\n",
    "# удалим часть эталонов, что бы в датасете были 'ничейные' товары\n",
    "references, nulled_references = train_test_split(\n",
    "    references, test_size=0.2, random_state=42\n",
    ")\n",
    "\n",
    "nulled_references_set = set([r.product_id for r in nulled_references])\n",
    "for p in products:\n",
    "    if p.reference_id in nulled_references_set:\n",
    "        p.reference_id = None\n",
    "\n",
    "products_train, products_test = train_test_split(\n",
    "    products, test_size=0.5, random_state=42\n",
    ")\n",
    "all_products = products_train + references"
   ],
   "metadata": {
    "collapsed": false,
    "pycharm": {
     "name": "#%%\n"
    }
   }
  },
  {
   "cell_type": "code",
   "execution_count": 26,
   "outputs": [],
   "source": [],
   "metadata": {
    "collapsed": false,
    "pycharm": {
     "name": "#%%\n"
    }
   }
  },
  {
   "cell_type": "code",
   "execution_count": 27,
   "outputs": [],
   "source": [
    "from sklearn.feature_extraction.text import TfidfVectorizer\n",
    "from sklearn.linear_model import RidgeClassifier\n",
    "from spacy.lang.en import STOP_WORDS as EN_STOP_WORDS\n",
    "from spacy.lang.ru import STOP_WORDS as RU_STOP_WORDS\n",
    "\n",
    "from model import ProductMatchingModel\n",
    "\n",
    "model = ProductMatchingModel(RidgeClassifier(alpha=1.9),\n",
    "                             TfidfVectorizer(stop_words=RU_STOP_WORDS or EN_STOP_WORDS))"
   ],
   "metadata": {
    "collapsed": false,
    "pycharm": {
     "name": "#%%\n"
    }
   }
  },
  {
   "cell_type": "code",
   "execution_count": 28,
   "outputs": [],
   "source": [
    "model.fit(all_products)"
   ],
   "metadata": {
    "collapsed": false,
    "pycharm": {
     "name": "#%%\n"
    }
   }
  },
  {
   "cell_type": "code",
   "execution_count": 29,
   "outputs": [],
   "source": [
    "def accuracy(predicted, target):\n",
    "    return list(map(lambda v: v[0] == v[1], zip(predicted, target))).count(True) / len(predicted)"
   ],
   "metadata": {
    "collapsed": false,
    "pycharm": {
     "name": "#%%\n"
    }
   }
  },
  {
   "cell_type": "code",
   "execution_count": 29,
   "outputs": [],
   "source": [],
   "metadata": {
    "collapsed": false,
    "pycharm": {
     "name": "#%%\n"
    }
   }
  },
  {
   "cell_type": "code",
   "execution_count": 29,
   "outputs": [],
   "source": [],
   "metadata": {
    "collapsed": false,
    "pycharm": {
     "name": "#%%\n"
    }
   }
  },
  {
   "cell_type": "code",
   "execution_count": 30,
   "outputs": [
    {
     "name": "stdout",
     "output_type": "stream",
     "text": [
      "Referrer of None Кондиционер Jax ACIU-08HE Brisbane Inverter (bb83b13040088cc5): \n",
      " ['Инверторный\\tда', 'Фильтры\\tдезодорирующий']\n"
     ]
    }
   ],
   "source": [
    "print(products_train[1])"
   ],
   "metadata": {
    "collapsed": false,
    "pycharm": {
     "name": "#%%\n"
    }
   }
  },
  {
   "cell_type": "code",
   "execution_count": 31,
   "outputs": [
    {
     "data": {
      "text/plain": "0.9697841726618706"
     },
     "execution_count": 31,
     "metadata": {},
     "output_type": "execute_result"
    }
   ],
   "source": [
    "accuracy(model.predict(products_train), map(lambda p: p.reference_id, products_train))"
   ],
   "metadata": {
    "collapsed": false,
    "pycharm": {
     "name": "#%%\n"
    }
   }
  },
  {
   "cell_type": "code",
   "execution_count": 32,
   "outputs": [
    {
     "data": {
      "text/plain": "[('fdff5884f8e0cdaf', 'fdff5884f8e0cdaf'),\n (None, None),\n ('f497219eb0077f84', 'f497219eb0077f84'),\n ('760e54d0f7254c84', '760e54d0f7254c84'),\n ('b91a686bdeee3b59', 'b91a686bdeee3b59'),\n (None, None),\n ('cc13eaa7e880c0d7', 'cc13eaa7e880c0d7'),\n ('65ae4c1d834dd1c3', '65ae4c1d834dd1c3'),\n (None, None),\n ('767e8aac14292d41', '767e8aac14292d41'),\n ('5de19e78cb7b902f', '5de19e78cb7b902f'),\n ('81bfaff4d9a7c386', '81bfaff4d9a7c386'),\n ('25d66337f5007356', '25d66337f5007356'),\n ('d4ebc4a26700d5e0', 'd4ebc4a26700d5e0'),\n ('648c6e1504a4e7cd', '648c6e1504a4e7cd'),\n ('bcaef629354a7f34', 'bcaef629354a7f34'),\n (None, None),\n ('62e72eba83c67ee6', '62e72eba83c67ee6'),\n ('0c5ac0f8d296c43a', '0c5ac0f8d296c43a'),\n (None, None),\n ('b91a686bdeee3b59', 'b91a686bdeee3b59'),\n ('60c511bc3f614e22', '60c511bc3f614e22'),\n ('565cd2e69b1fcdca', '565cd2e69b1fcdca'),\n ('c9634b0b93d1bafc', 'c9634b0b93d1bafc'),\n (None, 'ea2228931c428185'),\n ('7c078e4143695811', '7c078e4143695811'),\n ('74d0d86e83e8cfbd', '74d0d86e83e8cfbd'),\n (None, None),\n ('3312f087da822eaa', '3312f087da822eaa'),\n ('e8ca5c0eeaa7f392', 'e8ca5c0eeaa7f392'),\n ('b91a686bdeee3b59', 'b91a686bdeee3b59'),\n (None, None),\n ('f5cbd4fcc8474730', 'f5cbd4fcc8474730'),\n ('b435b4515808e799', 'b435b4515808e799'),\n ('5d69c61237a79bc1', '5d69c61237a79bc1'),\n ('4f9bf73be63fa349', '4f9bf73be63fa349'),\n ('48d9db768fc12833', '48d9db768fc12833'),\n ('bdcbf9f316fe0125', 'bdcbf9f316fe0125'),\n ('c8c1ad6110ff2bd2', 'c8c1ad6110ff2bd2'),\n ('6eaa6834dbf86212', '6eaa6834dbf86212'),\n ('7d0876a6abed076a', '7d0876a6abed076a'),\n ('565cd2e69b1fcdca', '565cd2e69b1fcdca'),\n ('94e5f00c4138bbf8', '94e5f00c4138bbf8'),\n ('ae0ded178481d783', 'ae0ded178481d783'),\n ('60c511bc3f614e22', '60c511bc3f614e22'),\n ('925c5d9217d329f2', '925c5d9217d329f2'),\n (None, None),\n ('8d6e8bbe6b1eadad', '8d6e8bbe6b1eadad'),\n (None, None),\n ('6a8af20af594f8f6', '6a8af20af594f8f6'),\n ('6a275666ebb5de0a', '6a275666ebb5de0a'),\n ('7daa2feb09ae2f1b', '7daa2feb09ae2f1b'),\n ('d4ebc4a26700d5e0', 'd4ebc4a26700d5e0'),\n ('8e2012bfdbccf188', '8e2012bfdbccf188'),\n ('7c078e4143695811', '7c078e4143695811'),\n ('8c82a2f5ce71159a', '8c82a2f5ce71159a'),\n ('8676768acab9c5ee', '8676768acab9c5ee'),\n ('43ae291b3ec558a6', '43ae291b3ec558a6'),\n ('880425acc14cd89b', '880425acc14cd89b'),\n ('9f89cf7692541c36', '9f89cf7692541c36'),\n ('f325184a5c99c599', 'f325184a5c99c599'),\n ('3d97593a7a33e57a', '3d97593a7a33e57a'),\n ('cb4a51946d773a5a', 'cb4a51946d773a5a'),\n ('108edf8f1054d7d4', '108edf8f1054d7d4'),\n ('f325184a5c99c599', 'f325184a5c99c599'),\n (None, None),\n ('c8cf6b65761ea1ef', 'c8cf6b65761ea1ef'),\n ('c1ba3c0a199ab1a2', 'c1ba3c0a199ab1a2'),\n ('4d63beda626c7f3e', '4d63beda626c7f3e'),\n ('b6f6e9b5ead263ae', 'b6f6e9b5ead263ae'),\n (None, None),\n (None, None),\n (None, None),\n ('2f92010236ee9319', '2f92010236ee9319'),\n ('80fdbdcfcaae3448', '80fdbdcfcaae3448'),\n ('09824205ce94d7c9', '09824205ce94d7c9'),\n ('100949e164af5333', '100949e164af5333'),\n ('37b6e131f080f0da', '37b6e131f080f0da'),\n ('d0c64830aa5b693c', 'd0c64830aa5b693c'),\n ('21991eb9be11bcfe', '21991eb9be11bcfe'),\n ('94e5f00c4138bbf8', '94e5f00c4138bbf8'),\n ('3fc7aa1177989cca', '3fc7aa1177989cca'),\n ('6d65b7363fdef730', '6d65b7363fdef730'),\n ('0229abcf2ded1058', '0229abcf2ded1058'),\n ('94e153585c3ba096', '94e153585c3ba096'),\n ('d4fe7179ce05fe85', 'd4fe7179ce05fe85'),\n ('d19665c423c71f84', 'd19665c423c71f84'),\n ('f6d45c3ab6c52946', 'f6d45c3ab6c52946'),\n ('37b7e8e97bd33f12', '37b7e8e97bd33f12'),\n ('687fc227afb5b319', '687fc227afb5b319'),\n ('696f261b866ca3b6', '696f261b866ca3b6'),\n ('74d0d86e83e8cfbd', '74d0d86e83e8cfbd'),\n ('f57dee0aaa1d6762', 'f57dee0aaa1d6762'),\n ('b91a686bdeee3b59', 'b91a686bdeee3b59'),\n ('7d57bd0cea170275', '7d57bd0cea170275'),\n ('f530b2c4727ad971', 'f530b2c4727ad971'),\n ('8469af0c1005c7f2', '8469af0c1005c7f2'),\n (None, None),\n ('94e153585c3ba096', '94e153585c3ba096'),\n ('e14fd7d4b79c39dc', 'e14fd7d4b79c39dc'),\n (None, None),\n (None, None),\n (None, 'd3f1c49998c771f3'),\n ('adcbc61186628800', 'adcbc61186628800'),\n ('872a4e660493748b', '872a4e660493748b'),\n ('64cb91aaedd3e189', '64cb91aaedd3e189'),\n (None, None),\n ('3fc7aa1177989cca', '3fc7aa1177989cca'),\n ('01a28e17323d6ef8', '01a28e17323d6ef8'),\n ('b6f6e9b5ead263ae', 'b6f6e9b5ead263ae'),\n ('5f0283bd0bae9396', '5f0283bd0bae9396'),\n ('bca7199a97f77357', 'bca7199a97f77357'),\n ('c8cf6b65761ea1ef', 'c8cf6b65761ea1ef'),\n ('f6d45c3ab6c52946', 'f6d45c3ab6c52946'),\n (None, None),\n ('abe138723279f9af', 'abe138723279f9af'),\n ('983409b96758b510', '983409b96758b510'),\n ('3739ab3aad1cc751', '3739ab3aad1cc751'),\n ('7810daae8a7e7fba', '7810daae8a7e7fba'),\n ('83c7f376d1e41642', '83c7f376d1e41642'),\n ('b91a686bdeee3b59', 'b91a686bdeee3b59'),\n ('d0566cc764e744fb', 'd0566cc764e744fb'),\n ('d57236931190ee4f', 'd57236931190ee4f'),\n (None, None),\n ('80fdbdcfcaae3448', '80fdbdcfcaae3448'),\n ('c24cbf788d7f1d47', 'c24cbf788d7f1d47'),\n ('e5542a95bc882c43', 'e5542a95bc882c43'),\n (None, None),\n ('86d39bd34b8f5e23', '86d39bd34b8f5e23'),\n (None, None),\n ('d7d28d1201ba8bde', 'd7d28d1201ba8bde'),\n ('f530b2c4727ad971', 'f530b2c4727ad971'),\n (None, None),\n ('f325184a5c99c599', 'f325184a5c99c599'),\n (None, None),\n ('bca7199a97f77357', 'bca7199a97f77357'),\n (None, None),\n ('11777853e7c22618', '11777853e7c22618'),\n (None, None),\n ('db2864373795ea53', 'db2864373795ea53'),\n ('d0615796a24cb300', 'd0615796a24cb300'),\n ('2fb0f64b2f454ce5', '2fb0f64b2f454ce5'),\n ('6e471a700c40e2ab', '6e471a700c40e2ab'),\n ('0c5ac0f8d296c43a', '0c5ac0f8d296c43a'),\n ('07d12ec5a962c925', '07d12ec5a962c925'),\n ('377312a4a7d64f81', '377312a4a7d64f81'),\n ('9afe55bb4bf1e8a8', '9afe55bb4bf1e8a8'),\n ('ec95d0b2bf54abf4', 'ec95d0b2bf54abf4'),\n ('d43cca2069b8cc44', 'd43cca2069b8cc44'),\n ('31862a08efb59198', '31862a08efb59198'),\n ('ef7e9ae5c1c2b654', 'ef7e9ae5c1c2b654'),\n (None, None),\n (None, None),\n ('b91a686bdeee3b59', 'b91a686bdeee3b59'),\n ('73c8a97445f43966', '73c8a97445f43966'),\n ('b6f6e9b5ead263ae', 'b6f6e9b5ead263ae'),\n ('8f9c8fcf9cb2862c', '8f9c8fcf9cb2862c'),\n ('de666c1df1cfda43', 'de666c1df1cfda43'),\n (None, None),\n (None, '698c7fc4d748a8e1'),\n ('d0566cc764e744fb', 'd0566cc764e744fb'),\n (None, None),\n (None, None),\n ('1d56acfbc4983b65', '1d56acfbc4983b65'),\n ('c0366162aa2500f8', 'c0366162aa2500f8'),\n (None, None),\n ('bcad9e86686f9bdb', 'bcad9e86686f9bdb'),\n (None, None),\n ('a7a8a654959ef5c9', 'a7a8a654959ef5c9'),\n ('73c8a97445f43966', '73c8a97445f43966'),\n ('8abff1fd30760f44', '8abff1fd30760f44'),\n ('09824205ce94d7c9', '09824205ce94d7c9'),\n ('f4821600fc823f6d', 'f4821600fc823f6d'),\n (None, None),\n (None, None),\n ('35b3667e9c4d5ab3', '35b3667e9c4d5ab3'),\n ('6723766c4478d88b', '6723766c4478d88b'),\n (None, None),\n ('47355d644fa375b2', '47355d644fa375b2'),\n ('65ae4c1d834dd1c3', '65ae4c1d834dd1c3'),\n ('c09a5711e558f38f', 'c09a5711e558f38f'),\n ('60c511bc3f614e22', '60c511bc3f614e22'),\n ('1eca353c3aaa0108', '1eca353c3aaa0108'),\n ('5da1e1dbd653ddae', '5da1e1dbd653ddae'),\n ('3e0ce7036a5a0195', '3e0ce7036a5a0195'),\n ('ab66700c291ac5ce', 'ab66700c291ac5ce'),\n ('2fb0f64b2f454ce5', '2fb0f64b2f454ce5'),\n ('5b53bef85d17bfd9', '5b53bef85d17bfd9'),\n ('938fd7feb4447953', '938fd7feb4447953'),\n ('18f70798698916ae', '18f70798698916ae'),\n ('187f86e9f768ebeb', '187f86e9f768ebeb'),\n ('8cf1b9c715f9a13f', '8cf1b9c715f9a13f'),\n ('74d0d86e83e8cfbd', '74d0d86e83e8cfbd'),\n (None, None),\n ('3770f7338ab697da', '3770f7338ab697da'),\n ('7810daae8a7e7fba', '7810daae8a7e7fba'),\n ('c2e78a61139bb6ce', 'c2e78a61139bb6ce'),\n ('32a7b966f7ab8c72', '32a7b966f7ab8c72'),\n ('ff5da4be6fa60c4b', 'ff5da4be6fa60c4b'),\n ('b3776edba7cd2247', 'b3776edba7cd2247'),\n (None, None),\n ('ab66700c291ac5ce', 'ab66700c291ac5ce'),\n (None, '48d9db768fc12833'),\n (None, None),\n (None, None),\n ('a7a8a654959ef5c9', 'a7a8a654959ef5c9'),\n ('01a28e17323d6ef8', '01a28e17323d6ef8'),\n ('880425acc14cd89b', '880425acc14cd89b'),\n ('471b8b5f9c648910', '471b8b5f9c648910'),\n (None, None),\n (None, None),\n ('e62b831e32efcbc8', 'e62b831e32efcbc8'),\n (None, None),\n ('d57236931190ee4f', 'd57236931190ee4f'),\n ('43ae291b3ec558a6', '43ae291b3ec558a6'),\n (None, None),\n ('f497219eb0077f84', 'f497219eb0077f84'),\n ('6ba3b74a1ca138cf', '6ba3b74a1ca138cf'),\n ('d7d28d1201ba8bde', 'd7d28d1201ba8bde'),\n ('29fe74264baec52c', '29fe74264baec52c'),\n ('80fdbdcfcaae3448', '80fdbdcfcaae3448'),\n (None, None),\n ('f57dee0aaa1d6762', 'f57dee0aaa1d6762'),\n ('8f9c8fcf9cb2862c', '8f9c8fcf9cb2862c'),\n ('6ba3b74a1ca138cf', '6ba3b74a1ca138cf'),\n ('8d6e8bbe6b1eadad', '8d6e8bbe6b1eadad'),\n ('d4fe7179ce05fe85', 'd4fe7179ce05fe85'),\n ('e041f07c2f1d0d57', 'e041f07c2f1d0d57'),\n ('2ce6f8d283aa69c5', '2ce6f8d283aa69c5'),\n ('2e5af7eb35741f68', '2e5af7eb35741f68'),\n (None, None),\n (None, None),\n ('bca7199a97f77357', 'bca7199a97f77357'),\n ('e10186c861a7c219', 'e10186c861a7c219'),\n ('5d3fa3ae27980116', '5d3fa3ae27980116'),\n ('b6f6e9b5ead263ae', 'b6f6e9b5ead263ae'),\n ('73c8a97445f43966', '73c8a97445f43966'),\n ('5da1e1dbd653ddae', '5da1e1dbd653ddae'),\n ('443fbb7739d5eccb', '443fbb7739d5eccb'),\n ('bdcbf9f316fe0125', 'bdcbf9f316fe0125'),\n (None, None),\n (None, None),\n ('65ae4c1d834dd1c3', '65ae4c1d834dd1c3'),\n (None, None),\n ('c24cbf788d7f1d47', 'c24cbf788d7f1d47'),\n (None, None),\n (None, None),\n ('c8cf6b65761ea1ef', 'c8cf6b65761ea1ef'),\n ('b75a8eaef3f48c70', 'b75a8eaef3f48c70'),\n ('b1d0b61573ff0b3f', 'b1d0b61573ff0b3f'),\n ('117f01fe96fc2b89', '117f01fe96fc2b89'),\n ('c9a0918e91a98305', 'c9a0918e91a98305'),\n ('68ccf6102657986b', '68ccf6102657986b'),\n (None, None),\n ('59ffd7e4452b90b8', '59ffd7e4452b90b8'),\n ('658389286433bfc3', '658389286433bfc3'),\n (None, None),\n ('f325184a5c99c599', 'f325184a5c99c599'),\n (None, None),\n ('41142f2def7d724f', '41142f2def7d724f'),\n ('aa77ce058814e55b', 'aa77ce058814e55b'),\n ('d75d646df7e9e2bb', 'd75d646df7e9e2bb'),\n ('be85c7f8554f16c0', 'be85c7f8554f16c0'),\n ('7e0aa20dfe462648', '7e0aa20dfe462648'),\n ('2fb0f64b2f454ce5', '2fb0f64b2f454ce5'),\n ('cac2180bc7c4d5fa', 'cac2180bc7c4d5fa'),\n ('cf0fa4f752feaed4', 'cf0fa4f752feaed4'),\n ('95aafaf6ecf2889f', '95aafaf6ecf2889f'),\n (None, None),\n ('3770f7338ab697da', '3770f7338ab697da'),\n (None, None),\n (None, None),\n ('d3f1c49998c771f3', 'd3f1c49998c771f3'),\n (None, None),\n ('7e0aa20dfe462648', '7e0aa20dfe462648'),\n (None, None),\n ('01378fa92f901df5', '01378fa92f901df5'),\n ('f1d7a6de205f4c9e', 'f1d7a6de205f4c9e'),\n ('b74de9b0b28590b4', 'b74de9b0b28590b4'),\n (None, None),\n ('efe4ee66e37c9fee', 'efe4ee66e37c9fee'),\n ('516c4c0cca619ea4', '516c4c0cca619ea4'),\n (None, '729f1b1e59600803'),\n ('4f9bf73be63fa349', '4f9bf73be63fa349'),\n (None, None),\n ('e8ca5c0eeaa7f392', 'e8ca5c0eeaa7f392'),\n (None, None),\n ('13f78f44e27fec08', '13f78f44e27fec08'),\n ('7082d012f6c82847', '7082d012f6c82847'),\n ('b33b2e069b9d7cf9', 'b33b2e069b9d7cf9'),\n ('d4ebc4a26700d5e0', 'd4ebc4a26700d5e0'),\n ('2d779b8a8ff7d278', '2d779b8a8ff7d278'),\n ('21991eb9be11bcfe', '21991eb9be11bcfe'),\n ('2ce6f8d283aa69c5', '2ce6f8d283aa69c5'),\n ('8676768acab9c5ee', '8676768acab9c5ee'),\n ('e0ec83be2c57721d', 'e0ec83be2c57721d'),\n (None, None),\n (None, None),\n (None, None),\n ('47355d644fa375b2', '47355d644fa375b2'),\n ('e867e92d563f6caf', 'e867e92d563f6caf'),\n ('f67deaee31597443', 'f67deaee31597443'),\n ('21991eb9be11bcfe', '21991eb9be11bcfe'),\n ('8f9c8fcf9cb2862c', '8f9c8fcf9cb2862c'),\n ('c74b2d4c1e6a99b3', 'c74b2d4c1e6a99b3'),\n (None, None),\n ('6a275666ebb5de0a', '6a275666ebb5de0a'),\n ('3e67027c91e41af1', '3e67027c91e41af1'),\n ('729f1b1e59600803', '729f1b1e59600803'),\n ('d43cca2069b8cc44', 'd43cca2069b8cc44'),\n (None, None),\n ('e8d1b4fddabaa505', 'e8d1b4fddabaa505'),\n ('5de19e78cb7b902f', '5de19e78cb7b902f'),\n ('9a719f61518fdbfc', '9a719f61518fdbfc'),\n ('e10186c861a7c219', 'e10186c861a7c219'),\n (None, None),\n (None, None),\n (None, None),\n ('443fbb7739d5eccb', '443fbb7739d5eccb'),\n ('5d69c61237a79bc1', '5d69c61237a79bc1'),\n ('100949e164af5333', '100949e164af5333'),\n ('bdcbf9f316fe0125', 'bdcbf9f316fe0125'),\n ('b60a61d64c53850f', 'b60a61d64c53850f'),\n (None, None),\n ('658389286433bfc3', '658389286433bfc3'),\n (None, '1d710b10c62c6a00'),\n ('4f641eb022b931b9', '4f641eb022b931b9'),\n ('b74de9b0b28590b4', 'b74de9b0b28590b4'),\n (None, None),\n ('0be9800a9a538231', '0be9800a9a538231'),\n ('56ce631a5a6b0cc1', '56ce631a5a6b0cc1'),\n ('471b8b5f9c648910', '471b8b5f9c648910'),\n ('adcbc61186628800', 'adcbc61186628800'),\n ('6e471a700c40e2ab', '6e471a700c40e2ab'),\n (None, None),\n ('f6711591cd55c091', 'f6711591cd55c091'),\n ('fee1d1dc53f135d1', 'fee1d1dc53f135d1'),\n ('8b3925c2f2a210c5', '8b3925c2f2a210c5'),\n (None, '5cd2febf56f0e483'),\n ('9d4183b628702996', '9d4183b628702996'),\n ('05cb692a7fd6c0e6', '05cb692a7fd6c0e6'),\n (None, None),\n ('6ba3b74a1ca138cf', '6ba3b74a1ca138cf'),\n ('df8dbcf0d4e381e6', 'df8dbcf0d4e381e6'),\n ('0083737f904dd9a9', '0083737f904dd9a9'),\n ('fdff5884f8e0cdaf', 'fdff5884f8e0cdaf'),\n ('78bec6b366af5726', '78bec6b366af5726'),\n ('f1ef51ca6bab03d3', 'f1ef51ca6bab03d3'),\n ('cb4a51946d773a5a', 'cb4a51946d773a5a'),\n ('658389286433bfc3', '658389286433bfc3'),\n ('3d97593a7a33e57a', '3d97593a7a33e57a'),\n ('8e24de4e8777d93a', '8e24de4e8777d93a'),\n ('f3823ddbc3398737', 'f3823ddbc3398737'),\n ('cf32ba7dd3343a4f', 'cf32ba7dd3343a4f'),\n ('d43cca2069b8cc44', 'd43cca2069b8cc44'),\n (None, 'c94038ffa1a33df2'),\n (None, None),\n ('7810daae8a7e7fba', '20ba2dcb69e1e35a'),\n (None, None),\n (None, None),\n ('69c224115cc00a85', '69c224115cc00a85'),\n ('377541fb839e74c8', '377541fb839e74c8'),\n ('687fc227afb5b319', '687fc227afb5b319'),\n ('3957c93dce19b3fe', '3957c93dce19b3fe'),\n ('8cf1b9c715f9a13f', '8cf1b9c715f9a13f'),\n ('117f01fe96fc2b89', '117f01fe96fc2b89'),\n ('3312f087da822eaa', '3312f087da822eaa'),\n (None, None),\n ('3e0ce7036a5a0195', '3e0ce7036a5a0195'),\n ('e041f07c2f1d0d57', 'e041f07c2f1d0d57'),\n ('6d65b7363fdef730', '6d65b7363fdef730'),\n (None, None),\n ('fccdc0fdbefeeaa3', 'fccdc0fdbefeeaa3'),\n ('ae0ded178481d783', 'ae0ded178481d783'),\n ('b91a686bdeee3b59', 'b91a686bdeee3b59'),\n (None, None),\n ('8f9c8fcf9cb2862c', '8f9c8fcf9cb2862c'),\n ('3abd00f4ca1adfcc', '3abd00f4ca1adfcc'),\n ('9c2ebb2b8b07cad2', '9c2ebb2b8b07cad2'),\n (None, None),\n ('d4fe7179ce05fe85', 'd4fe7179ce05fe85'),\n (None, None),\n ('5d3fa3ae27980116', '5d3fa3ae27980116'),\n ('cfc2b5f5c0fa69dd', 'cfc2b5f5c0fa69dd'),\n (None, None),\n ('ae5c533c45a41bdc', 'ae5c533c45a41bdc'),\n ('35b3667e9c4d5ab3', '35b3667e9c4d5ab3'),\n ('b6f6e9b5ead263ae', 'b6f6e9b5ead263ae'),\n ('19a0e085f1c80eb6', '19a0e085f1c80eb6'),\n (None, None),\n ('05cb692a7fd6c0e6', '05cb692a7fd6c0e6'),\n ('377541fb839e74c8', '377541fb839e74c8'),\n ('d0c64830aa5b693c', 'd0c64830aa5b693c'),\n ('3739ab3aad1cc751', '3739ab3aad1cc751'),\n ('de666c1df1cfda43', 'de666c1df1cfda43'),\n ('47355d644fa375b2', '47355d644fa375b2'),\n ('dcaa0047e36b83d4', 'dcaa0047e36b83d4'),\n (None, None),\n ('66111416e7cce47c', '66111416e7cce47c'),\n ('d43cca2069b8cc44', 'd43cca2069b8cc44'),\n ('7e0aa20dfe462648', '7e0aa20dfe462648'),\n ('d4fe7179ce05fe85', 'd4fe7179ce05fe85'),\n ('80fdbdcfcaae3448', '40037632f88f0617'),\n (None, None),\n ('c1ba3c0a199ab1a2', 'c1ba3c0a199ab1a2'),\n ('3fc7aa1177989cca', '3fc7aa1177989cca'),\n (None, None),\n (None, None),\n ('f4d135a1d7a3b3a0', 'f4d135a1d7a3b3a0'),\n ('15cb3a27705c8a79', '15cb3a27705c8a79'),\n ('3f844bec1d74466d', '3f844bec1d74466d'),\n ('b05babdc653dcd9d', 'b05babdc653dcd9d'),\n ('9a719f61518fdbfc', '9a719f61518fdbfc'),\n ('59ffd7e4452b90b8', '59ffd7e4452b90b8'),\n ('5277163b1a2099dd', '5277163b1a2099dd'),\n (None, None),\n (None, None),\n (None, None),\n ('59ffd7e4452b90b8', '59ffd7e4452b90b8'),\n (None, None),\n ('516c4c0cca619ea4', '516c4c0cca619ea4'),\n ('e867e92d563f6caf', 'e867e92d563f6caf'),\n ('6a8af20af594f8f6', '6a8af20af594f8f6'),\n ('7810daae8a7e7fba', '7810daae8a7e7fba'),\n ('b3776edba7cd2247', 'b3776edba7cd2247'),\n ('c5f1eb9158c3a707', 'c5f1eb9158c3a707'),\n ('b941b65ba33a29a0', 'b941b65ba33a29a0'),\n (None, '1d710b10c62c6a00'),\n ('2ea467129e23718e', '2ea467129e23718e'),\n ('349fdfb870581e8c', '349fdfb870581e8c'),\n ('1f3709ce593ece4a', '1f3709ce593ece4a'),\n (None, None),\n ('2eb451c97426f306', '2eb451c97426f306'),\n ('94e153585c3ba096', '94e153585c3ba096'),\n ('7e6e34bdb1103b4d', '7e6e34bdb1103b4d'),\n ('680983361f9768d3', '680983361f9768d3'),\n ('79365b00febf391b', '79365b00febf391b'),\n (None, None),\n ('c9a0918e91a98305', 'c9a0918e91a98305'),\n ('5fa45f2e58a4b6d6', '5fa45f2e58a4b6d6'),\n ('9317f988ff2328d5', '9317f988ff2328d5'),\n (None, '64056890cc4af17f'),\n ('e5542a95bc882c43', 'e5542a95bc882c43'),\n ('95e18541133f46a1', '95e18541133f46a1'),\n (None, None),\n ('15cb3a27705c8a79', '15cb3a27705c8a79'),\n ('6991971afd95e343', '6991971afd95e343'),\n ('43ae291b3ec558a6', '43ae291b3ec558a6'),\n ('e10186c861a7c219', 'e10186c861a7c219'),\n ('680983361f9768d3', '680983361f9768d3'),\n ('0be9800a9a538231', '0be9800a9a538231'),\n (None, None),\n ('6641efda5eea8e32', '6641efda5eea8e32'),\n ('14d7de09535f5f24', '14d7de09535f5f24'),\n ('70dda99f86242098', '70dda99f86242098'),\n ('91ac89bf0cf37452', '91ac89bf0cf37452'),\n ('beaf8f52f0745c2c', 'beaf8f52f0745c2c'),\n (None, None),\n ('565cd2e69b1fcdca', '565cd2e69b1fcdca'),\n ('eab61e20ff52459e', 'eab61e20ff52459e'),\n ('43f7583a52960284', '43f7583a52960284'),\n ('19a0e085f1c80eb6', '19a0e085f1c80eb6'),\n (None, None),\n ('07d12ec5a962c925', '07d12ec5a962c925'),\n ('73c8a97445f43966', '73c8a97445f43966'),\n ('f1d7a6de205f4c9e', 'f1d7a6de205f4c9e'),\n (None, None),\n ('b3776edba7cd2247', 'b3776edba7cd2247'),\n ('b60a61d64c53850f', 'b60a61d64c53850f'),\n (None, None),\n ('de666c1df1cfda43', 'de666c1df1cfda43'),\n ('f3823ddbc3398737', 'f3823ddbc3398737'),\n ('0607c04000d78548', '0607c04000d78548'),\n ('f3823ddbc3398737', 'f3823ddbc3398737'),\n ('6a275666ebb5de0a', '6a275666ebb5de0a'),\n (None, '168bf704bf291d84'),\n ('3312f087da822eaa', '3312f087da822eaa'),\n ('3ef0e6e982996562', '3ef0e6e982996562'),\n (None, None),\n ('2eb451c97426f306', '2eb451c97426f306'),\n ('9afe55bb4bf1e8a8', '9afe55bb4bf1e8a8'),\n (None, None),\n ('658389286433bfc3', '658389286433bfc3'),\n ('3024dbf152225504', '3024dbf152225504'),\n ('f67deaee31597443', 'f67deaee31597443'),\n ('df8dbcf0d4e381e6', 'df8dbcf0d4e381e6'),\n (None, None),\n (None, None),\n ('f0506a48de1ba119', 'f0506a48de1ba119'),\n ('8c478e5e07402147', '8c478e5e07402147'),\n (None, None),\n ('c74b2d4c1e6a99b3', 'c74b2d4c1e6a99b3'),\n ('95e18541133f46a1', '95e18541133f46a1'),\n ('f4821600fc823f6d', 'f4821600fc823f6d'),\n (None, None),\n ('8612bdb4fe798b2f', '8612bdb4fe798b2f'),\n (None, None),\n ('5de19e78cb7b902f', '5de19e78cb7b902f'),\n ('e62b831e32efcbc8', 'e62b831e32efcbc8'),\n (None, None),\n (None, 'b43738df81b274e6'),\n ('01601abb0bf5133d', '01601abb0bf5133d'),\n (None, None),\n ('8676768acab9c5ee', '8676768acab9c5ee'),\n ('5d3fa3ae27980116', '5d3fa3ae27980116'),\n ('8d6e8bbe6b1eadad', '8d6e8bbe6b1eadad'),\n ('9afe55bb4bf1e8a8', '9afe55bb4bf1e8a8'),\n (None, '8b69cc8b592abddf'),\n ('bca7199a97f77357', 'bca7199a97f77357'),\n ('5b53bef85d17bfd9', '5b53bef85d17bfd9'),\n ('d4ebc4a26700d5e0', 'd4ebc4a26700d5e0'),\n ('f57dee0aaa1d6762', 'f57dee0aaa1d6762'),\n ('eab61e20ff52459e', 'eab61e20ff52459e'),\n ('2f92010236ee9319', '2f92010236ee9319'),\n ('e459c9495955613a', 'e459c9495955613a'),\n ('1f21918ceb5d345c', '1f21918ceb5d345c'),\n ('b06b981adc52c752', 'b06b981adc52c752'),\n ('872a4e660493748b', '872a4e660493748b'),\n ('8f9f7a8f4b112f15', '8f9f7a8f4b112f15'),\n ('4c8a5b8f228eaed8', '4c8a5b8f228eaed8'),\n ('41142f2def7d724f', '41142f2def7d724f'),\n ('cfc2b5f5c0fa69dd', 'cfc2b5f5c0fa69dd'),\n (None, None),\n (None, None),\n ('8e24de4e8777d93a', '8e24de4e8777d93a'),\n ('5fa45f2e58a4b6d6', '5fa45f2e58a4b6d6'),\n ('15cb3a27705c8a79', '15cb3a27705c8a79'),\n (None, None),\n ('07be2569f73bd6b7', '07be2569f73bd6b7'),\n ('86d39bd34b8f5e23', '86d39bd34b8f5e23'),\n ('f440de22d764b2a3', 'f440de22d764b2a3'),\n ('250b2183453afede', '250b2183453afede'),\n ('73c8a97445f43966', '73c8a97445f43966'),\n ('b6f6e9b5ead263ae', 'b6f6e9b5ead263ae'),\n ('b3776edba7cd2247', 'b3776edba7cd2247'),\n ('a97b2ca22a6393b3', 'a97b2ca22a6393b3'),\n ('f497219eb0077f84', 'f497219eb0077f84'),\n ('4e7b09a6a5d50370', '4e7b09a6a5d50370'),\n ('c9634b0b93d1bafc', 'c9634b0b93d1bafc'),\n ('d4ebc4a26700d5e0', 'd4ebc4a26700d5e0'),\n (None, None),\n ('d7d28d1201ba8bde', 'd7d28d1201ba8bde'),\n (None, None),\n ('938fd7feb4447953', '938fd7feb4447953'),\n ('187f86e9f768ebeb', '187f86e9f768ebeb'),\n ('ed65d39d41aeab0e', 'ed65d39d41aeab0e'),\n ('b01fdcef319c260d', 'b01fdcef319c260d'),\n (None, None),\n (None, None),\n ('516c4c0cca619ea4', '563d494021391f6f'),\n ('720fb1e8502e4198', '720fb1e8502e4198'),\n ('6eaa6834dbf86212', '6eaa6834dbf86212'),\n (None, '767e8aac14292d41'),\n ('e14fd7d4b79c39dc', 'e14fd7d4b79c39dc'),\n ('8cf1b9c715f9a13f', '8cf1b9c715f9a13f'),\n ('4f9bf73be63fa349', '4f9bf73be63fa349'),\n ('beaf8f52f0745c2c', 'beaf8f52f0745c2c'),\n ('4f9bf73be63fa349', '4f9bf73be63fa349'),\n ('d4ebc4a26700d5e0', 'e8f7590b4c24fdbf'),\n ('3957c93dce19b3fe', '3957c93dce19b3fe'),\n (None, None),\n ('648c6e1504a4e7cd', '648c6e1504a4e7cd'),\n ('f57dee0aaa1d6762', 'f57dee0aaa1d6762'),\n (None, None),\n ('2ce6f8d283aa69c5', '2ce6f8d283aa69c5'),\n ('15cb3a27705c8a79', '15cb3a27705c8a79'),\n ('1f21918ceb5d345c', '1f21918ceb5d345c'),\n (None, None),\n ('b91a686bdeee3b59', 'b91a686bdeee3b59'),\n ('94e5f00c4138bbf8', '94e5f00c4138bbf8'),\n ('664b48a4aafdf9cf', '664b48a4aafdf9cf'),\n ('f4d135a1d7a3b3a0', 'f4d135a1d7a3b3a0'),\n ('d7d28d1201ba8bde', 'd7d28d1201ba8bde'),\n ('8c82a2f5ce71159a', '8c82a2f5ce71159a'),\n (None, None),\n ('13238d78e9f5777f', '13238d78e9f5777f'),\n ('64cb91aaedd3e189', '64cb91aaedd3e189'),\n (None, None),\n ('62e72eba83c67ee6', '62e72eba83c67ee6'),\n ('922a15232c00e78c', '922a15232c00e78c'),\n ('b5878d4747e452ad', 'b5878d4747e452ad'),\n ('d7d28d1201ba8bde', 'd7d28d1201ba8bde'),\n (None, None),\n ('cdbe98a45d95d962', 'cdbe98a45d95d962'),\n ('c9634b0b93d1bafc', 'c9634b0b93d1bafc'),\n ('6eaa6834dbf86212', '6eaa6834dbf86212'),\n ('d4ebc4a26700d5e0', 'd4ebc4a26700d5e0'),\n (None, None),\n ('f5cbd4fcc8474730', 'f5cbd4fcc8474730'),\n ('bdcbf9f316fe0125', 'bdcbf9f316fe0125'),\n ('680983361f9768d3', '680983361f9768d3'),\n (None, None),\n ('715017d68a89f1b1', '715017d68a89f1b1'),\n ('516c4c0cca619ea4', '516c4c0cca619ea4'),\n ('7810daae8a7e7fba', '7810daae8a7e7fba'),\n ('9d4183b628702996', '9d4183b628702996'),\n ('35b3667e9c4d5ab3', '35b3667e9c4d5ab3'),\n ('d4ebc4a26700d5e0', 'd4ebc4a26700d5e0'),\n (None, None),\n (None, None),\n ('cf0fa4f752feaed4', 'cf0fa4f752feaed4'),\n (None, '65d0a61465fb389b'),\n (None, None),\n ('c74b2d4c1e6a99b3', 'c74b2d4c1e6a99b3'),\n ('b05babdc653dcd9d', 'b05babdc653dcd9d'),\n ('0db4a3bd5db1f203', '0db4a3bd5db1f203'),\n ('d43cca2069b8cc44', 'd43cca2069b8cc44'),\n ('09824205ce94d7c9', '09824205ce94d7c9'),\n ('c9634b0b93d1bafc', 'c9634b0b93d1bafc'),\n ('f5cbd4fcc8474730', 'f5cbd4fcc8474730'),\n ('abe138723279f9af', 'abe138723279f9af'),\n (None, None),\n ('d7d28d1201ba8bde', 'd7d28d1201ba8bde'),\n ('6991971afd95e343', '6991971afd95e343'),\n (None, None),\n ('ff5da4be6fa60c4b', 'ff5da4be6fa60c4b'),\n ('92f1db4ddab3befe', '92f1db4ddab3befe'),\n (None, None),\n ('8f9c8fcf9cb2862c', '8f9c8fcf9cb2862c'),\n (None, 'ea2228931c428185'),\n ('58330809dae8fcad', '58330809dae8fcad'),\n ('80fdbdcfcaae3448', '80fdbdcfcaae3448'),\n ('6a275666ebb5de0a', '6a275666ebb5de0a'),\n ('161fca3b6bcf5fcc', '161fca3b6bcf5fcc'),\n ('8b3925c2f2a210c5', '8b3925c2f2a210c5'),\n ('93bfeb64227828a3', '93bfeb64227828a3'),\n ('516c4c0cca619ea4', '516c4c0cca619ea4'),\n ('0db4a3bd5db1f203', '0db4a3bd5db1f203'),\n ('78bec6b366af5726', '78bec6b366af5726'),\n ('938fd7feb4447953', '938fd7feb4447953'),\n ('8d6e8bbe6b1eadad', '8d6e8bbe6b1eadad'),\n (None, None),\n ('4850871069f9073a', '4850871069f9073a'),\n (None, None),\n ('3770f7338ab697da', '3770f7338ab697da'),\n (None, None),\n ('8676768acab9c5ee', '8676768acab9c5ee'),\n (None, None),\n ('7daa2feb09ae2f1b', '7daa2feb09ae2f1b'),\n ('193e2a2bb43ac363', '193e2a2bb43ac363'),\n ('c0366162aa2500f8', 'c0366162aa2500f8'),\n ('ea2228931c428185', 'ea2228931c428185'),\n ('11777853e7c22618', '11777853e7c22618'),\n (None, None),\n ('25d66337f5007356', '25d66337f5007356'),\n ('3e0ce7036a5a0195', '3e0ce7036a5a0195'),\n ('664b48a4aafdf9cf', '664b48a4aafdf9cf'),\n ('a05ae39cb2ace0f4', 'a05ae39cb2ace0f4'),\n ('cf32ba7dd3343a4f', 'cf32ba7dd3343a4f'),\n ('377312a4a7d64f81', '377312a4a7d64f81'),\n ('4d63beda626c7f3e', '4d63beda626c7f3e'),\n ('690e287b3c850d7c', '690e287b3c850d7c'),\n ('161fca3b6bcf5fcc', '161fca3b6bcf5fcc'),\n ('65d0a61465fb389b', '65d0a61465fb389b'),\n (None, None),\n ('696f261b866ca3b6', '696f261b866ca3b6'),\n (None, None),\n (None, None),\n ('ae5c533c45a41bdc', 'ae5c533c45a41bdc'),\n (None, None),\n (None, None),\n ('1795ccd84570377e', '1795ccd84570377e'),\n ('15cb3a27705c8a79', '15cb3a27705c8a79'),\n ('cfc2b5f5c0fa69dd', 'cfc2b5f5c0fa69dd'),\n (None, None),\n ('73c8a97445f43966', '73c8a97445f43966'),\n (None, None),\n (None, None),\n ('d75d646df7e9e2bb', 'd75d646df7e9e2bb'),\n (None, None),\n ('69c224115cc00a85', '69c224115cc00a85'),\n ('6ba3b74a1ca138cf', '6ba3b74a1ca138cf'),\n (None, None),\n (None, None),\n ('c1ba3c0a199ab1a2', '760e54d0f7254c84'),\n ('ea223ca919e2f464', 'ea223ca919e2f464'),\n ('dcaa0047e36b83d4', 'dcaa0047e36b83d4'),\n ('7d57bd0cea170275', '7d57bd0cea170275'),\n ('4ee851e0c2dda54c', '4ee851e0c2dda54c'),\n ('13238d78e9f5777f', '13238d78e9f5777f'),\n ('2d779b8a8ff7d278', '2d779b8a8ff7d278'),\n ('e890f739eb760654', 'e890f739eb760654'),\n (None, None),\n ('1d56acfbc4983b65', '1d56acfbc4983b65'),\n (None, None),\n ('bdcbf9f316fe0125', 'bdcbf9f316fe0125'),\n (None, None),\n (None, None),\n ('93bfeb64227828a3', '93bfeb64227828a3'),\n (None, None),\n ('c9634b0b93d1bafc', 'c9634b0b93d1bafc'),\n ('c0366162aa2500f8', 'c0366162aa2500f8'),\n ('bca7199a97f77357', 'bca7199a97f77357'),\n ('13a23947cc15cfe7', '13a23947cc15cfe7'),\n (None, None),\n ('516c4c0cca619ea4', '516c4c0cca619ea4'),\n ('a97b2ca22a6393b3', 'a97b2ca22a6393b3'),\n ('6b423ba12a723c38', '6b423ba12a723c38'),\n ('d4ebc4a26700d5e0', 'd4ebc4a26700d5e0'),\n ('e8ca5c0eeaa7f392', 'e8ca5c0eeaa7f392'),\n ('5b53bef85d17bfd9', '5b53bef85d17bfd9'),\n (None, None),\n (None, None),\n ('4f641eb022b931b9', '4f641eb022b931b9'),\n ('f67deaee31597443', 'f67deaee31597443'),\n (None, None),\n ('9f89cf7692541c36', '9f89cf7692541c36'),\n ('87a78dfb2fbdff0c', '87a78dfb2fbdff0c'),\n ('70dda99f86242098', '70dda99f86242098'),\n (None, None),\n ('b91a686bdeee3b59', 'b91a686bdeee3b59'),\n ('7d0876a6abed076a', '7d0876a6abed076a'),\n ('e867e92d563f6caf', 'e867e92d563f6caf'),\n ('6641efda5eea8e32', '6641efda5eea8e32'),\n (None, None),\n ('b6f6e9b5ead263ae', 'b6f6e9b5ead263ae'),\n ('5d3fa3ae27980116', '5d3fa3ae27980116'),\n ('cac2180bc7c4d5fa', 'cac2180bc7c4d5fa'),\n ('c9a0918e91a98305', 'c9a0918e91a98305'),\n ('125544c9cc07456f', '125544c9cc07456f'),\n ('c8cf6b65761ea1ef', 'c8cf6b65761ea1ef'),\n (None, None),\n ('7d0876a6abed076a', '7d0876a6abed076a'),\n (None, None),\n (None, 'd3f1c49998c771f3'),\n ('b01fdcef319c260d', 'b01fdcef319c260d'),\n (None, None),\n ('dcaa0047e36b83d4', 'dcaa0047e36b83d4'),\n (None, None),\n ('cf0fa4f752feaed4', 'cf0fa4f752feaed4'),\n ('720fb1e8502e4198', '720fb1e8502e4198'),\n ('4ab004bd3c60bab9', '4ab004bd3c60bab9'),\n ('35b3667e9c4d5ab3', '35b3667e9c4d5ab3'),\n (None, None),\n ('d4ebc4a26700d5e0', 'd4ebc4a26700d5e0'),\n ('08d814610482da4a', '08d814610482da4a'),\n ('3478f4ee87d43aee', '3478f4ee87d43aee'),\n ('f4821600fc823f6d', 'f4821600fc823f6d'),\n ('c8cf6b65761ea1ef', 'c8cf6b65761ea1ef'),\n ('9a719f61518fdbfc', '9a719f61518fdbfc'),\n ('14d7de09535f5f24', '14d7de09535f5f24'),\n ('8469af0c1005c7f2', '8469af0c1005c7f2'),\n (None, None),\n ('84fd7990c2a3e568', '84fd7990c2a3e568'),\n ('beaf8f52f0745c2c', 'beaf8f52f0745c2c'),\n (None, None),\n ('117f01fe96fc2b89', '117f01fe96fc2b89'),\n (None, 'c293089bc63254cd'),\n ('15cb3a27705c8a79', '15cb3a27705c8a79'),\n ('4ab004bd3c60bab9', '4ab004bd3c60bab9'),\n ('983409b96758b510', '983409b96758b510'),\n ('5fa45f2e58a4b6d6', '5fa45f2e58a4b6d6'),\n ('ab66700c291ac5ce', 'ab66700c291ac5ce'),\n ('391e608092fe27de', '391e608092fe27de'),\n (None, None),\n ('d57236931190ee4f', 'd57236931190ee4f'),\n ('377312a4a7d64f81', '377312a4a7d64f81'),\n ('3739ab3aad1cc751', '3739ab3aad1cc751'),\n ('cb4a51946d773a5a', 'cb4a51946d773a5a'),\n ('9c2ebb2b8b07cad2', '9c2ebb2b8b07cad2'),\n ('f1ef51ca6bab03d3', 'f1ef51ca6bab03d3'),\n ('0083737f904dd9a9', '0083737f904dd9a9'),\n ('5fa45f2e58a4b6d6', '5fa45f2e58a4b6d6'),\n ('f497219eb0077f84', 'f497219eb0077f84'),\n ('8f9f7a8f4b112f15', '8f9f7a8f4b112f15'),\n ('8d6e8bbe6b1eadad', '8d6e8bbe6b1eadad'),\n ('b01fdcef319c260d', 'b01fdcef319c260d'),\n ('70dda99f86242098', '70dda99f86242098'),\n ('7810daae8a7e7fba', '7810daae8a7e7fba'),\n ('99fe19e16b5bbeee', '99fe19e16b5bbeee'),\n (None, None),\n ('e043872d672a8fe8', 'e043872d672a8fe8'),\n ('8612bdb4fe798b2f', '8612bdb4fe798b2f'),\n ('bd62c68d54171320', 'bd62c68d54171320'),\n ('563d494021391f6f', '563d494021391f6f'),\n ('c74b2d4c1e6a99b3', 'c74b2d4c1e6a99b3'),\n ('f1d7a6de205f4c9e', 'f1d7a6de205f4c9e'),\n ('8cf1b9c715f9a13f', '8cf1b9c715f9a13f'),\n ('654fe5d10e55bbeb', '654fe5d10e55bbeb'),\n ('2fb0f64b2f454ce5', '2fb0f64b2f454ce5'),\n ('648c6e1504a4e7cd', '648c6e1504a4e7cd'),\n (None, None),\n ('05cb692a7fd6c0e6', '05cb692a7fd6c0e6'),\n ('2e9d9df33a9c55f0', '2e9d9df33a9c55f0'),\n ('0cb3fc4ae2e1d6fd', '0cb3fc4ae2e1d6fd'),\n (None, None),\n ('3548c7f528527e95', '3548c7f528527e95'),\n ('2215bb3c753bac5a', '2215bb3c753bac5a'),\n (None, '9158a4c6707ede74'),\n ('09824205ce94d7c9', '09824205ce94d7c9'),\n ('be85c7f8554f16c0', 'be85c7f8554f16c0'),\n ('a05ae39cb2ace0f4', 'a05ae39cb2ace0f4'),\n ('b91a686bdeee3b59', 'b91a686bdeee3b59'),\n ('0be9800a9a538231', '0be9800a9a538231'),\n ('0c5ac0f8d296c43a', '0c5ac0f8d296c43a'),\n (None, None),\n ('08d814610482da4a', '08d814610482da4a'),\n (None, None),\n (None, None),\n ('87a78dfb2fbdff0c', '87a78dfb2fbdff0c'),\n (None, None),\n ('b941b65ba33a29a0', 'b941b65ba33a29a0'),\n ('983409b96758b510', '983409b96758b510'),\n ('b6f6e9b5ead263ae', 'b6f6e9b5ead263ae'),\n ('664b48a4aafdf9cf', '664b48a4aafdf9cf'),\n ('1eca353c3aaa0108', '1eca353c3aaa0108'),\n ('b1d0b61573ff0b3f', 'b1d0b61573ff0b3f'),\n (None, None),\n ('0c5ac0f8d296c43a', '0c5ac0f8d296c43a'),\n ('01601abb0bf5133d', '01601abb0bf5133d'),\n (None, None),\n ('4f9bf73be63fa349', '4f9bf73be63fa349'),\n (None, None),\n ('6ba3b74a1ca138cf', '6ba3b74a1ca138cf'),\n ('7daa2feb09ae2f1b', '7daa2feb09ae2f1b'),\n ('9217fac11424f831', '9217fac11424f831'),\n ('954dce8f7193712b', '954dce8f7193712b'),\n ('c8cf6b65761ea1ef', 'c8cf6b65761ea1ef'),\n ('4ee851e0c2dda54c', '4ee851e0c2dda54c'),\n ('ec95d0b2bf54abf4', 'ec95d0b2bf54abf4'),\n ('f7443cc12811da93', 'f7443cc12811da93'),\n ('69c224115cc00a85', '69c224115cc00a85'),\n ('37b6e131f080f0da', '37b6e131f080f0da'),\n ('922a15232c00e78c', '922a15232c00e78c'),\n (None, None),\n ('6641efda5eea8e32', '6641efda5eea8e32'),\n ('d5f74488ca1cd971', 'd5f74488ca1cd971'),\n (None, None),\n ('776d4db26cb2e451', '776d4db26cb2e451'),\n (None, None),\n ('a75cab6d9c61065e', 'a75cab6d9c61065e'),\n ('7c078e4143695811', '7c078e4143695811'),\n ('74d0d86e83e8cfbd', '74d0d86e83e8cfbd'),\n (None, None),\n ('7d57bd0cea170275', '7d57bd0cea170275'),\n ('f67deaee31597443', 'f67deaee31597443'),\n ('3506a28b65ac9e2b', '3506a28b65ac9e2b'),\n ('05a95e7066dc4c52', '05a95e7066dc4c52'),\n (None, None),\n ('7e0aa20dfe462648', '7e0aa20dfe462648'),\n ('516c4c0cca619ea4', '516c4c0cca619ea4'),\n (None, None),\n (None, None),\n ('4ee851e0c2dda54c', '4ee851e0c2dda54c'),\n (None, None),\n (None, None),\n (None, None),\n ('160fedb205c7f64e', '160fedb205c7f64e'),\n ('e8ca5c0eeaa7f392', 'e8ca5c0eeaa7f392'),\n (None, 'a8d71ac2f5a72530'),\n (None, None),\n ('b1d0b61573ff0b3f', 'b1d0b61573ff0b3f'),\n ('d3f1c49998c771f3', 'd3f1c49998c771f3'),\n ('74d0d86e83e8cfbd', '74d0d86e83e8cfbd'),\n (None, None),\n (None, None),\n ('abe138723279f9af', 'abe138723279f9af'),\n ('d0c64830aa5b693c', 'd0c64830aa5b693c'),\n (None, None),\n ('bca7199a97f77357', 'bca7199a97f77357'),\n (None, None),\n ('f9fc2a8afa5b2ff5', 'f9fc2a8afa5b2ff5'),\n (None, None),\n ('377312a4a7d64f81', '377312a4a7d64f81'),\n ('d5f74488ca1cd971', 'd5f74488ca1cd971'),\n ('2f92010236ee9319', '2f92010236ee9319'),\n (None, None),\n ('5a8702ae15ccd6df', '5a8702ae15ccd6df'),\n (None, None),\n (None, None),\n ('94120a348b9d0bac', '94120a348b9d0bac'),\n ('84fd7990c2a3e568', '84fd7990c2a3e568'),\n ('d43cca2069b8cc44', 'd43cca2069b8cc44'),\n ('dcaa0047e36b83d4', 'dcaa0047e36b83d4'),\n (None, None),\n (None, 'bfdc076d700c7c34'),\n ('528e3d99bf396149', '528e3d99bf396149'),\n (None, None),\n ('909e4bc94eef35b2', '909e4bc94eef35b2'),\n (None, '5277163b1a2099dd'),\n ('f497219eb0077f84', 'f497219eb0077f84'),\n ('a97b2ca22a6393b3', 'a97b2ca22a6393b3'),\n ('f9fc2a8afa5b2ff5', 'f9fc2a8afa5b2ff5'),\n ('f57dee0aaa1d6762', 'f57dee0aaa1d6762'),\n ('1d56acfbc4983b65', '1d56acfbc4983b65'),\n ('c24cbf788d7f1d47', 'c24cbf788d7f1d47'),\n ('2e9d9df33a9c55f0', '2e9d9df33a9c55f0'),\n ('4b220b0b1cabd51a', '4b220b0b1cabd51a'),\n ('d0615796a24cb300', 'd0615796a24cb300'),\n ('1320d9871e0e41e1', '1320d9871e0e41e1'),\n ('d43cca2069b8cc44', 'd43cca2069b8cc44'),\n ('349fdfb870581e8c', '349fdfb870581e8c'),\n ('66111416e7cce47c', '66111416e7cce47c'),\n (None, None),\n (None, None),\n ('ccd0ad2b2ddd13bf', 'ccd0ad2b2ddd13bf'),\n ('6b423ba12a723c38', '6b423ba12a723c38'),\n ('07be2569f73bd6b7', '07be2569f73bd6b7'),\n (None, None),\n ('c09a5711e558f38f', 'c09a5711e558f38f'),\n ('108edf8f1054d7d4', '108edf8f1054d7d4'),\n ('8cf1b9c715f9a13f', '8cf1b9c715f9a13f'),\n ('11777853e7c22618', '11777853e7c22618'),\n ('b6f6e9b5ead263ae', 'b6f6e9b5ead263ae'),\n ('bd828d1ddcec8c48', 'bd828d1ddcec8c48'),\n (None, '3478f4ee87d43aee'),\n ('3ef0e6e982996562', '3ef0e6e982996562'),\n ('6e471a700c40e2ab', '6e471a700c40e2ab'),\n ('776d4db26cb2e451', '776d4db26cb2e451'),\n ('3e67027c91e41af1', '3e67027c91e41af1'),\n ('be85c7f8554f16c0', 'be85c7f8554f16c0'),\n ('f4821600fc823f6d', 'f4821600fc823f6d'),\n ('3548c7f528527e95', '3548c7f528527e95'),\n ('c1ba3c0a199ab1a2', 'c1ba3c0a199ab1a2'),\n ('f5cbd4fcc8474730', 'f5cbd4fcc8474730'),\n ('25d66337f5007356', '25d66337f5007356'),\n (None, None),\n ('bdcbf9f316fe0125', 'bdcbf9f316fe0125'),\n (None, None),\n (None, None),\n ('37b7e8e97bd33f12', '37b7e8e97bd33f12'),\n (None, None),\n ('b3776edba7cd2247', 'b3776edba7cd2247'),\n ('b74de9b0b28590b4', 'b74de9b0b28590b4'),\n ('9317f988ff2328d5', '9317f988ff2328d5'),\n ('e0ec83be2c57721d', 'e0ec83be2c57721d'),\n (None, None),\n ('44fc96d2d6363eb9', '44fc96d2d6363eb9'),\n (None, None),\n ('88acf0e46386f61d', '88acf0e46386f61d'),\n ('7b2f56fdae6e4b69', '7b2f56fdae6e4b69'),\n ('6b423ba12a723c38', '6b423ba12a723c38'),\n (None, None),\n ('1112102ced6b29fe', '1112102ced6b29fe'),\n (None, None),\n ('54c9c1029f7053a5', '54c9c1029f7053a5'),\n (None, '78a87eb0e0365083'),\n ('b33b2e069b9d7cf9', 'b33b2e069b9d7cf9'),\n ('1253c3296a3c0153', '1253c3296a3c0153'),\n ('909e4bc94eef35b2', '909e4bc94eef35b2'),\n ('19a0e085f1c80eb6', '19a0e085f1c80eb6'),\n ('d7d28d1201ba8bde', 'd7d28d1201ba8bde'),\n ('d0c64830aa5b693c', 'd0c64830aa5b693c'),\n ('37b6e131f080f0da', '37b6e131f080f0da'),\n ('cf32ba7dd3343a4f', 'cf32ba7dd3343a4f'),\n (None, None),\n ('432fef74d528586f', '432fef74d528586f'),\n ('b33b2e069b9d7cf9', 'b33b2e069b9d7cf9'),\n ('83c7f376d1e41642', '83c7f376d1e41642'),\n ('64cb91aaedd3e189', '64cb91aaedd3e189'),\n ('94120a348b9d0bac', '94120a348b9d0bac'),\n (None, '177ccb3b84125efa'),\n ('6723766c4478d88b', '6723766c4478d88b'),\n ('680983361f9768d3', '680983361f9768d3'),\n ('7e6e34bdb1103b4d', '7e6e34bdb1103b4d'),\n ('864817f21dfff210', '864817f21dfff210'),\n ('c74b2d4c1e6a99b3', 'c74b2d4c1e6a99b3'),\n ('0229abcf2ded1058', '0229abcf2ded1058'),\n (None, None),\n (None, 'df3067c6ea1deee5'),\n (None, None),\n ('5de19e78cb7b902f', '5de19e78cb7b902f'),\n ('2f92010236ee9319', '2f92010236ee9319'),\n ('aa77ce058814e55b', 'aa77ce058814e55b'),\n ('257d8f18f913e5d7', '257d8f18f913e5d7'),\n ('349fdfb870581e8c', '349fdfb870581e8c'),\n (None, '648c6e1504a4e7cd'),\n ('e8ca5c0eeaa7f392', 'e8ca5c0eeaa7f392'),\n ('c24cbf788d7f1d47', 'c24cbf788d7f1d47'),\n ('54f849cca17ad46c', '54f849cca17ad46c'),\n ('8c478e5e07402147', '8c478e5e07402147'),\n (None, None),\n ('565cd2e69b1fcdca', '565cd2e69b1fcdca'),\n ('6ba3b74a1ca138cf', '6ba3b74a1ca138cf'),\n ('f325184a5c99c599', 'f325184a5c99c599'),\n ('1795ccd84570377e', '1795ccd84570377e'),\n (None, None),\n ('7d57bd0cea170275', '7d57bd0cea170275'),\n ('e10186c861a7c219', 'e10186c861a7c219'),\n ('e890f739eb760654', 'e890f739eb760654'),\n ('81b6691e5d2c752f', '81b6691e5d2c752f'),\n ('18a5d547a136f872', '18a5d547a136f872'),\n ('880425acc14cd89b', '880425acc14cd89b'),\n ('2ce6f8d283aa69c5', '2ce6f8d283aa69c5'),\n ('6d65b7363fdef730', '6d65b7363fdef730'),\n (None, None),\n ('516c4c0cca619ea4', '516c4c0cca619ea4'),\n ('d4ebc4a26700d5e0', 'd4ebc4a26700d5e0'),\n ('95aafaf6ecf2889f', '95aafaf6ecf2889f'),\n ('a75cab6d9c61065e', 'a75cab6d9c61065e'),\n (None, None),\n ('bd62c68d54171320', 'bd62c68d54171320'),\n ('fb2f4122fc21be6f', 'fb2f4122fc21be6f'),\n ('1f3709ce593ece4a', '1f3709ce593ece4a'),\n ('6723766c4478d88b', '6723766c4478d88b'),\n ('ff5da4be6fa60c4b', 'ff5da4be6fa60c4b'),\n (None, None),\n (None, None),\n ('df8dbcf0d4e381e6', 'df8dbcf0d4e381e6'),\n ('0793124d86c65dc5', '0793124d86c65dc5'),\n ...]"
     },
     "execution_count": 32,
     "metadata": {},
     "output_type": "execute_result"
    }
   ],
   "source": [
    "list(zip(model.predict(products_train), map(lambda p: p.reference_id, products_train)))"
   ],
   "metadata": {
    "collapsed": false,
    "pycharm": {
     "name": "#%%\n"
    }
   }
  },
  {
   "cell_type": "code",
   "execution_count": 32,
   "outputs": [],
   "source": [],
   "metadata": {
    "collapsed": false,
    "pycharm": {
     "name": "#%%\n"
    }
   }
  },
  {
   "cell_type": "code",
   "execution_count": 32,
   "outputs": [],
   "source": [],
   "metadata": {
    "collapsed": false,
    "pycharm": {
     "name": "#%%\n"
    }
   }
  },
  {
   "cell_type": "code",
   "execution_count": 32,
   "outputs": [],
   "source": [],
   "metadata": {
    "collapsed": false,
    "pycharm": {
     "name": "#%%\n"
    }
   }
  }
 ],
 "metadata": {
  "kernelspec": {
   "display_name": "Python 3",
   "language": "python",
   "name": "python3"
  },
  "language_info": {
   "codemirror_mode": {
    "name": "ipython",
    "version": 2
   },
   "file_extension": ".py",
   "mimetype": "text/x-python",
   "name": "python",
   "nbconvert_exporter": "python",
   "pygments_lexer": "ipython2",
   "version": "2.7.6"
  }
 },
 "nbformat": 4,
 "nbformat_minor": 0
}