{
 "cells": [
  {
   "cell_type": "code",
   "execution_count": 1,
   "outputs": [],
   "source": [
    "import numpy as np\n"
   ],
   "metadata": {
    "collapsed": false,
    "pycharm": {
     "name": "#%%\n"
    }
   }
  },
  {
   "cell_type": "code",
   "execution_count": 2,
   "outputs": [],
   "source": [
    "from product import Product\n",
    "from json import load\n",
    "\n",
    "with open('agora_hack_products.json', encoding='utf-8') as file:\n",
    "    all_products = load(file)\n",
    "\n",
    "all_products = [Product(**p) for p in all_products]"
   ],
   "metadata": {
    "collapsed": false,
    "pycharm": {
     "name": "#%%\n"
    }
   }
  },
  {
   "cell_type": "code",
   "execution_count": 2,
   "outputs": [],
   "source": [],
   "metadata": {
    "collapsed": false,
    "pycharm": {
     "name": "#%%\n"
    }
   }
  },
  {
   "cell_type": "code",
   "execution_count": 3,
   "outputs": [],
   "source": [
    "references = [p for p in all_products if p.is_reference]\n",
    "references_id_set = set([ref.product_id for ref in references])\n",
    "products = [p for p in all_products if p.product_id not in references_id_set]"
   ],
   "metadata": {
    "collapsed": false,
    "pycharm": {
     "name": "#%%\n"
    }
   }
  },
  {
   "cell_type": "code",
   "execution_count": 4,
   "outputs": [],
   "source": [
    "from sklearn.model_selection import train_test_split\n",
    "\n",
    "# удалим часть эталонов, что бы в датасете были 'ничейные' товары\n",
    "references, nulled_references = train_test_split(\n",
    "    references, test_size=0.5 , random_state=42\n",
    ")\n",
    "references += nulled_references\n",
    "nulled_references = []\n",
    "\n",
    "nulled_references_set = set([r.product_id for r in nulled_references])\n",
    "for p in products:\n",
    "    if p.reference_id in nulled_references_set:\n",
    "        p.reference_id = None\n",
    "\n",
    "products_train, products_test = train_test_split(\n",
    "    products, test_size=0.5, random_state=42\n",
    ")\n",
    "all_products = products_train + references\n",
    "products_test = products_test + nulled_references"
   ],
   "metadata": {
    "collapsed": false,
    "pycharm": {
     "name": "#%%\n"
    }
   }
  },
  {
   "cell_type": "code",
   "execution_count": 5,
   "outputs": [],
   "source": [
    "def accuracy(predicted, target):\n",
    "    return list(map(lambda v: v[0] == v[1], zip(predicted, target))).count(True) / len(predicted)"
   ],
   "metadata": {
    "collapsed": false,
    "pycharm": {
     "name": "#%%\n"
    }
   }
  },
  {
   "cell_type": "code",
   "execution_count": 5,
   "outputs": [],
   "source": [],
   "metadata": {
    "collapsed": false,
    "pycharm": {
     "name": "#%%\n"
    }
   }
  },
  {
   "cell_type": "code",
   "execution_count": 5,
   "outputs": [],
   "source": [],
   "metadata": {
    "collapsed": false,
    "pycharm": {
     "name": "#%%\n"
    }
   }
  },
  {
   "cell_type": "code",
   "execution_count": 5,
   "outputs": [],
   "source": [],
   "metadata": {
    "collapsed": false,
    "pycharm": {
     "name": "#%%\n"
    }
   }
  },
  {
   "cell_type": "code",
   "execution_count": 6,
   "outputs": [],
   "source": [
    "hand_test = []\n",
    "for i in range(4,5):\n",
    "    with open(f'test_data/data_{i}.json', encoding='utf-8') as f:\n",
    "        hand_test.extend(load(f))\n",
    "\n",
    "hand_test = [Product(**p) for p in hand_test]"
   ],
   "metadata": {
    "collapsed": false,
    "pycharm": {
     "name": "#%%\n"
    }
   }
  },
  {
   "cell_type": "code",
   "execution_count": 7,
   "outputs": [
    {
     "name": "stdout",
     "output_type": "stream",
     "text": [
      "0.7463729177861365 0.9474820143884892 0.16666666666666666\n"
     ]
    }
   ],
   "source": [
    "from sklearn.svm import OneClassSVM, LinearSVC, SVC\n",
    "from sklearn.feature_extraction.text import TfidfVectorizer, CountVectorizer, HashingVectorizer\n",
    "from sklearn.linear_model import RidgeClassifier\n",
    "from sklearn.ensemble import RandomForestClassifier\n",
    "from spacy.lang.en import STOP_WORDS as EN_STOP_WORDS\n",
    "from spacy.lang.ru import STOP_WORDS as RU_STOP_WORDS\n",
    "\n",
    "\n",
    "from model import ProductMatchingModel\n",
    "\n",
    "\n",
    "model = ProductMatchingModel(RidgeClassifier(alpha=0.4),\n",
    "                             RidgeClassifier(alpha=0.1),\n",
    "                             RidgeClassifier(alpha=0.1),\n",
    "                             TfidfVectorizer(stop_words=RU_STOP_WORDS or EN_STOP_WORDS))\n",
    "\n",
    "model.fit(all_products)\n",
    "\n",
    "print(accuracy(model.predict(all_products), map(lambda p: p.reference_id, all_products)),\n",
    "accuracy(model.predict(products_test), map(lambda p: p.reference_id, products_test)),\n",
    "accuracy(model.predict(hand_test), map(lambda p: p.reference_id, hand_test)),)"
   ],
   "metadata": {
    "collapsed": false,
    "pycharm": {
     "name": "#%%\n"
    }
   }
  },
  {
   "cell_type": "code",
   "execution_count": 8,
   "outputs": [],
   "source": [
    "model.dump('model.pkl')"
   ],
   "metadata": {
    "collapsed": false,
    "pycharm": {
     "name": "#%%\n"
    }
   }
  },
  {
   "cell_type": "code",
   "execution_count": 10,
   "outputs": [],
   "source": [
    "model = model.load('model.pkl')"
   ],
   "metadata": {
    "collapsed": false,
    "pycharm": {
     "name": "#%%\n"
    }
   }
  },
  {
   "cell_type": "code",
   "execution_count": 11,
   "outputs": [],
   "source": [],
   "metadata": {
    "collapsed": false,
    "pycharm": {
     "name": "#%%\n"
    }
   }
  },
  {
   "cell_type": "code",
   "execution_count": 14,
   "outputs": [],
   "source": [
    "\n",
    "\n",
    "model = ProductMatchingModel(RidgeClassifier(alpha=0.4),\n",
    "                             RidgeClassifier(alpha=0.1),\n",
    "                             RidgeClassifier(alpha=0.1),\n",
    "                             TfidfVectorizer(stop_words=RU_STOP_WORDS or EN_STOP_WORDS))"
   ],
   "metadata": {
    "collapsed": false,
    "pycharm": {
     "name": "#%%\n"
    }
   }
  },
  {
   "cell_type": "code",
   "execution_count": 9,
   "outputs": [],
   "source": [
    "def classify_error(pred, targ):\n",
    "    if pred == targ:\n",
    "        return\n",
    "    if pred is None and targ is not None:\n",
    "        return 'freerider'\n",
    "    if pred is not None and targ is None:\n",
    "        return 'bastard'\n",
    "    return 'chameleon'\n"
   ],
   "metadata": {
    "collapsed": false,
    "pycharm": {
     "name": "#%%\n"
    }
   }
  },
  {
   "cell_type": "code",
   "execution_count": 10,
   "outputs": [
    {
     "name": "stdout",
     "output_type": "stream",
     "text": [
      "acc= 0.16666666666666663\n"
     ]
    },
    {
     "data": {
      "text/plain": "Counter({'bastard': 5})"
     },
     "execution_count": 10,
     "metadata": {},
     "output_type": "execute_result"
    }
   ],
   "source": [
    "from collections import Counter\n",
    "\n",
    "\n",
    "results = list(zip(model.predict(hand_test), map(lambda p: p.reference_id, hand_test)))\n",
    "cnt = Counter([classify_error(a, b) for a,b in results if a != b])\n",
    "print('acc=', 1 - sum(cnt.values()) / len(results))\n",
    "cnt"
   ],
   "metadata": {
    "collapsed": false,
    "pycharm": {
     "name": "#%%\n"
    }
   }
  },
  {
   "cell_type": "code",
   "execution_count": 11,
   "outputs": [
    {
     "name": "stdout",
     "output_type": "stream",
     "text": [
      "\n",
      "\n",
      "<=====================>\n",
      "\n",
      "Referrer of 2b0ab54004b858af Роутер TP-LINK TL-WR842N (3605e12b229373d6): \n",
      " ['Количество  LAN-портов 4', 'Подключение  к интернету (WAN) внешний модем, Ethernet RJ-45']\n",
      "\n",
      " matched with \n",
      "\n",
      "Reference Wi-Fi роутер TP-LINK TL-WR842N (2b0ab54004b858af): \n",
      " ['Скорость портов\\t100 Мбит/с', 'Количество LAN-портов 4', 'Функции и особенности поддержка IPv6, режим моста, WDS, UPnP AV-сервер', 'Частотный  диапазон устройств Wi-Fi\\t2.4 ГГц', 'Макс.  скорость беспроводного соединения 300 Мбит/с', 'Поддержка  USB-модема', 'Подключение   к интернету (WAN) внешний модем, Ethernet RJ-45', 'Стандарт  Wi-Fi 802.11 b (Wi-Fi 1), g (Wi-Fi 3), n (Wi-Fi 4), a (Wi-Fi 2)']\n",
      "\n",
      "\n",
      "<=====================>\n",
      "\n",
      "Reference Wi-Fi роутер TP-LINK TL-WR842N (2b0ab54004b858af): \n",
      " ['Скорость портов\\t100 Мбит/с', 'Количество LAN-портов 4', 'Функции и особенности поддержка IPv6, режим моста, WDS, UPnP AV-сервер', 'Частотный  диапазон устройств Wi-Fi\\t2.4 ГГц', 'Макс.  скорость беспроводного соединения 300 Мбит/с', 'Поддержка  USB-модема', 'Подключение   к интернету (WAN) внешний модем, Ethernet RJ-45', 'Стандарт  Wi-Fi 802.11 b (Wi-Fi 1), g (Wi-Fi 3), n (Wi-Fi 4), a (Wi-Fi 2)']\n",
      "\n",
      " matched with \n",
      "\n",
      "Reference Wi-Fi роутер TP-LINK TL-WR842N (2b0ab54004b858af): \n",
      " ['Скорость портов\\t100 Мбит/с', 'Количество LAN-портов 4', 'Функции и особенности поддержка IPv6, режим моста, WDS, UPnP AV-сервер', 'Частотный  диапазон устройств Wi-Fi\\t2.4 ГГц', 'Макс.  скорость беспроводного соединения 300 Мбит/с', 'Поддержка  USB-модема', 'Подключение   к интернету (WAN) внешний модем, Ethernet RJ-45', 'Стандарт  Wi-Fi 802.11 b (Wi-Fi 1), g (Wi-Fi 3), n (Wi-Fi 4), a (Wi-Fi 2)']\n",
      "\n",
      "\n",
      "<=====================>\n",
      "\n",
      "Referrer of None Wi-Fi роутер TP-Link TL-WR842N белый (): \n",
      " ['Производитель:TP-LINK\\nТип устройства:роутер\\nЧастотный диапазон устройств Wi-Fi:2.4 ГГц\\nПодключение к интернету (WAN):Ethernet RJ-45, внешний модем\\nСкорость портов:100 Мбит/с\\nСтандарт Wi-Fi 802.11:a (Wi-Fi 2), b (Wi-Fi 1), g (Wi-Fi 3), n (Wi-Fi 4)\\n']\n",
      "\n",
      " matched with \n",
      "\n",
      "Reference Wi-Fi роутер TP-LINK TL-WR842N (2b0ab54004b858af): \n",
      " ['Скорость портов\\t100 Мбит/с', 'Количество LAN-портов 4', 'Функции и особенности поддержка IPv6, режим моста, WDS, UPnP AV-сервер', 'Частотный  диапазон устройств Wi-Fi\\t2.4 ГГц', 'Макс.  скорость беспроводного соединения 300 Мбит/с', 'Поддержка  USB-модема', 'Подключение   к интернету (WAN) внешний модем, Ethernet RJ-45', 'Стандарт  Wi-Fi 802.11 b (Wi-Fi 1), g (Wi-Fi 3), n (Wi-Fi 4), a (Wi-Fi 2)']\n",
      "\n",
      "\n",
      "<=====================>\n",
      "\n",
      "Referrer of None Маршрутизатор TP-LINK TL-WR842N v 5.0 (): \n",
      " ['Производитель:TP-LINK\\nТип устройства:роутер\\nЧастотный диапазон устройств Wi-Fi:2.4 ГГц\\nПодключение к интернету (WAN):Ethernet RJ-45, внешний модем\\nСкорость портов:100 Мбит/с\\nСтандарт Wi-Fi 802.11:a (Wi-Fi 2), b (Wi-Fi 1), g (Wi-Fi 3), n (Wi-Fi 4)\\n']\n",
      "\n",
      " matched with \n",
      "\n",
      "Reference Wi-Fi роутер TP-LINK TL-WR842N (2b0ab54004b858af): \n",
      " ['Скорость портов\\t100 Мбит/с', 'Количество LAN-портов 4', 'Функции и особенности поддержка IPv6, режим моста, WDS, UPnP AV-сервер', 'Частотный  диапазон устройств Wi-Fi\\t2.4 ГГц', 'Макс.  скорость беспроводного соединения 300 Мбит/с', 'Поддержка  USB-модема', 'Подключение   к интернету (WAN) внешний модем, Ethernet RJ-45', 'Стандарт  Wi-Fi 802.11 b (Wi-Fi 1), g (Wi-Fi 3), n (Wi-Fi 4), a (Wi-Fi 2)']\n",
      "\n",
      "\n",
      "<=====================>\n",
      "\n",
      "Referrer of None Микроволновая печь Samsung ME88SUW/BW, 800Вт, 23л, белый (): \n",
      " ['Объем\\t23 л\\nМощность микроволн\\t800 Вт\\n']\n",
      "\n",
      " matched with \n",
      "\n",
      "Reference Микроволновая печь Samsung MG23K3614AW, белый (a62ac35841239177): \n",
      " ['Объем\\t23 л', 'Режимы работы разморозка, гриль, микроволны + гриль', 'Мощность  микроволн\\t800 Вт', 'Внутреннее   покрытие камеры\\tбиокерамическая эмаль', 'Диаметр  поддона\\t288 мм', 'Переключатели\\tповоротные  тактовые', 'ШхВхГ\\t48.90х27.50х39.20  см', 'Доп.  режимы звуковой сигнал отключения, автоматическая разморозка', 'Особенности   утапливаемые переключатели, дисплей, система равномерного распределения микроволн, подсветка камеры']\n",
      "\n",
      "\n",
      "<=====================>\n",
      "\n",
      "Referrer of None Микроволновая печь NATIONAL NK-MW362S20, серебристый (): \n",
      " ['Объем\\t20 л\\nМощность микроволн\\t700 Вт\\nВнутреннее покрытие камеры\\tэмаль\\nДиаметр поддона\\t255 мм\\nПереключатели\\tсенсорные\\n']\n",
      "\n",
      " matched with \n",
      "\n",
      "Reference Микроволновая печь NATIONAL NK-MW262S20, черный (31312fb0f5ebc4a2): \n",
      " ['Объем\\t20 л', 'Мощность микроволн\\t700 Вт', 'Переключатели\\tсенсорные', 'Режимы работы\\tразморозка', 'Диаметр   поддона\\t255 мм', 'ШхВхГ\\t44х25.90х32.30   см', 'Особенности   дисплей, блокировка от детей, программирование рецептов в память, подсветка камеры', 'Доп.   режимы программирование процесса приготовления, автоматическая разморозка, звуковой сигнал отключения, автоматическое приготовление, экспресс-режим приготовления']\n"
     ]
    }
   ],
   "source": [
    "for r, product_given in zip(results, hand_test):\n",
    "        predicted, target = r\n",
    "    #if predicted != target:\n",
    "        print('\\n\\n<=====================>\\n')\n",
    "\n",
    "        print(product_given)\n",
    "\n",
    "        print('\\n matched with \\n')\n",
    "\n",
    "        print(*filter(lambda p: p.product_id == predicted, references))"
   ],
   "metadata": {
    "collapsed": false,
    "pycharm": {
     "name": "#%%\n"
    }
   }
  },
  {
   "cell_type": "code",
   "execution_count": 11,
   "outputs": [],
   "source": [],
   "metadata": {
    "collapsed": false,
    "pycharm": {
     "name": "#%%\n"
    }
   }
  },
  {
   "cell_type": "code",
   "execution_count": 11,
   "outputs": [],
   "source": [],
   "metadata": {
    "collapsed": false,
    "pycharm": {
     "name": "#%%\n"
    }
   }
  },
  {
   "cell_type": "code",
   "execution_count": 12,
   "outputs": [
    {
     "ename": "ZeroDivisionError",
     "evalue": "division by zero",
     "output_type": "error",
     "traceback": [
      "\u001B[1;31m---------------------------------------------------------------------------\u001B[0m",
      "\u001B[1;31mZeroDivisionError\u001B[0m                         Traceback (most recent call last)",
      "Input \u001B[1;32mIn [12]\u001B[0m, in \u001B[0;36m<cell line: 1>\u001B[1;34m()\u001B[0m\n\u001B[1;32m----> 1\u001B[0m \u001B[38;5;241;43m0\u001B[39;49m\u001B[38;5;241;43m/\u001B[39;49m\u001B[38;5;241;43m0\u001B[39;49m\n",
      "\u001B[1;31mZeroDivisionError\u001B[0m: division by zero"
     ]
    }
   ],
   "source": [
    "0/0"
   ],
   "metadata": {
    "collapsed": false,
    "pycharm": {
     "name": "#%%\n"
    }
   }
  },
  {
   "cell_type": "code",
   "execution_count": null,
   "outputs": [],
   "source": [
    "from sklearn.gaussian_process.kernels import RBF\n",
    "from sklearn.discriminant_analysis import QuadraticDiscriminantAnalysis\n",
    "from sklearn.gaussian_process import GaussianProcessClassifier\n",
    "from sklearn.neural_network import MLPClassifier\n",
    "from sklearn.neighbors import KNeighborsClassifier, RadiusNeighborsClassifier\n",
    "from sklearn.linear_model import LogisticRegression\n",
    "from sklearn.ensemble import RandomForestClassifier, VotingClassifier, AdaBoostClassifier\n",
    "from sklearn.svm import LinearSVC\n",
    "from sklearn.naive_bayes import MultinomialNB, GaussianNB\n",
    "from sklearn.linear_model import RidgeClassifier, SGDClassifier\n",
    "from sklearn.base import ClassifierMixin\n",
    "from sklearn.tree import DecisionTreeClassifier\n",
    "from sklearn.ensemble import GradientBoostingClassifier\n",
    "from sklearn.base import clone\n",
    "\n",
    "from sklearn.feature_extraction.text import TfidfVectorizer\n",
    "from spacy.lang.en import STOP_WORDS as EN_STOP_WORDS\n",
    "from spacy.lang.ru import STOP_WORDS as RU_STOP_WORDS\n",
    "\n",
    "import pandas as pd\n",
    "import plotly.express as px\n",
    "\n",
    "from model import ProductMatchingModel\n",
    "\n",
    "use_models = [\n",
    "    KNeighborsClassifier(3),\n",
    "    SVC(gamma=2, C=1),\n",
    "    DecisionTreeClassifier(max_depth=5),\n",
    "    RandomForestClassifier(max_depth=5, n_estimators=10, max_features=1),\n",
    "    MLPClassifier(alpha=1, max_iter=1000),\n",
    "]\n",
    "\n",
    "models = list(zip(map(lambda m: m.__class__.__name__, use_models), use_models)) # now its [(name, model), ...]\n",
    "\n",
    "model_tests_df = []\n",
    "for name, model in models:\n",
    "    master_model = ProductMatchingModel(RidgeClassifier(alpha=1.9), clone(model), clone(model),\n",
    "                                        vectorizer=TfidfVectorizer(stop_words=RU_STOP_WORDS or EN_STOP_WORDS))\n",
    "    master_model.fit(all_products)\n",
    "    train_acc, test_acc, hand_acc = accuracy(master_model.predict(all_products), map(lambda p: p.reference_id, all_products)),\\\n",
    "                          accuracy(master_model.predict(products_test), map(lambda p: p.reference_id, products_test)),\\\n",
    "                          accuracy(master_model.predict(hand_test), map(lambda p: p.reference_id, hand_test)),\n",
    "\n",
    "    print(name, f\"train: {train_acc}, test: {test_acc}, hand: {hand_acc}\")\n",
    "    model_tests_df.append([name, train_acc, test_acc, hand_acc])\n",
    "\n",
    "model_tests_df = pd.DataFrame(model_tests_df, columns=['name', 'train_acc', 'test_acc', 'hand_acc'])\n",
    "\n",
    "bar = px.bar(model_tests_df, x='name', y=['train_acc', 'test_acc', 'hand_acc'], barmode='group', log_y=False)\n",
    "bar.show()"
   ],
   "metadata": {
    "collapsed": false,
    "pycharm": {
     "name": "#%%\n"
    }
   }
  }
 ],
 "metadata": {
  "kernelspec": {
   "display_name": "Python 3",
   "language": "python",
   "name": "python3"
  },
  "language_info": {
   "codemirror_mode": {
    "name": "ipython",
    "version": 2
   },
   "file_extension": ".py",
   "mimetype": "text/x-python",
   "name": "python",
   "nbconvert_exporter": "python",
   "pygments_lexer": "ipython2",
   "version": "2.7.6"
  }
 },
 "nbformat": 4,
 "nbformat_minor": 0
}