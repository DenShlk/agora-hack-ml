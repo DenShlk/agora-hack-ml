{
 "cells": [
  {
   "cell_type": "code",
   "execution_count": 1,
   "outputs": [],
   "source": [
    "import numpy as np\n"
   ],
   "metadata": {
    "collapsed": false,
    "pycharm": {
     "name": "#%%\n"
    }
   }
  },
  {
   "cell_type": "code",
   "execution_count": 9,
   "outputs": [],
   "source": [
    "from product import Product\n",
    "from json import load\n",
    "\n",
    "with open('agora_hack_products.json', encoding='utf-8') as file:\n",
    "    all_products = load(file)\n",
    "\n",
    "all_products = [Product(**p) for p in all_products]"
   ],
   "metadata": {
    "collapsed": false,
    "pycharm": {
     "name": "#%%\n"
    }
   }
  },
  {
   "cell_type": "code",
   "execution_count": 2,
   "outputs": [],
   "source": [],
   "metadata": {
    "collapsed": false,
    "pycharm": {
     "name": "#%%\n"
    }
   }
  },
  {
   "cell_type": "code",
   "execution_count": 10,
   "outputs": [],
   "source": [
    "references = [p for p in all_products if p.is_reference]\n",
    "references_id_set = set([ref.product_id for ref in references])\n",
    "products = [p for p in all_products if p.product_id not in references_id_set]"
   ],
   "metadata": {
    "collapsed": false,
    "pycharm": {
     "name": "#%%\n"
    }
   }
  },
  {
   "cell_type": "code",
   "execution_count": 11,
   "outputs": [],
   "source": [
    "from sklearn.model_selection import train_test_split\n",
    "\n",
    "# удалим часть эталонов, что бы в датасете были 'ничейные' товары\n",
    "references, nulled_references = train_test_split(\n",
    "    references, test_size=0.2, random_state=42\n",
    ")\n",
    "\n",
    "nulled_references_set = set([r.product_id for r in nulled_references])\n",
    "for p in products:\n",
    "    if p.reference_id in nulled_references_set:\n",
    "        p.reference_id = None\n",
    "\n",
    "products_train, products_test = train_test_split(\n",
    "    products, test_size=0.5, random_state=42\n",
    ")\n",
    "all_products = products_train + references\n",
    "products_test = products_test + nulled_references"
   ],
   "metadata": {
    "collapsed": false,
    "pycharm": {
     "name": "#%%\n"
    }
   }
  },
  {
   "cell_type": "code",
   "execution_count": 5,
   "outputs": [],
   "source": [
    "def accuracy(predicted, target):\n",
    "    return list(map(lambda v: v[0] == v[1], zip(predicted, target))).count(True) / len(predicted)"
   ],
   "metadata": {
    "collapsed": false,
    "pycharm": {
     "name": "#%%\n"
    }
   }
  },
  {
   "cell_type": "code",
   "execution_count": 5,
   "outputs": [],
   "source": [],
   "metadata": {
    "collapsed": false,
    "pycharm": {
     "name": "#%%\n"
    }
   }
  },
  {
   "cell_type": "code",
   "execution_count": 6,
   "outputs": [
    {
     "ename": "KeyError",
     "evalue": "'fdff5884f8e0cdaf'",
     "output_type": "error",
     "traceback": [
      "\u001B[1;31m---------------------------------------------------------------------------\u001B[0m",
      "\u001B[1;31mKeyError\u001B[0m                                  Traceback (most recent call last)",
      "Input \u001B[1;32mIn [6]\u001B[0m, in \u001B[0;36m<cell line: 35>\u001B[1;34m()\u001B[0m\n\u001B[0;32m     35\u001B[0m \u001B[38;5;28;01mfor\u001B[39;00m name, model \u001B[38;5;129;01min\u001B[39;00m models:\n\u001B[0;32m     36\u001B[0m     master_model \u001B[38;5;241m=\u001B[39m ProductMatchingModel(RidgeClassifier(alpha\u001B[38;5;241m=\u001B[39m\u001B[38;5;241m1.9\u001B[39m), clone(model), clone(model),\n\u001B[0;32m     37\u001B[0m                                         vectorizer\u001B[38;5;241m=\u001B[39mTfidfVectorizer(stop_words\u001B[38;5;241m=\u001B[39mRU_STOP_WORDS \u001B[38;5;129;01mor\u001B[39;00m EN_STOP_WORDS))\n\u001B[1;32m---> 38\u001B[0m     \u001B[43mmaster_model\u001B[49m\u001B[38;5;241;43m.\u001B[39;49m\u001B[43mfit\u001B[49m\u001B[43m(\u001B[49m\u001B[43mproducts_train\u001B[49m\u001B[43m)\u001B[49m\n\u001B[0;32m     39\u001B[0m     train_acc, test_acc \u001B[38;5;241m=\u001B[39m accuracy(master_model\u001B[38;5;241m.\u001B[39mpredict(products_train), \u001B[38;5;28mmap\u001B[39m(\u001B[38;5;28;01mlambda\u001B[39;00m p: p\u001B[38;5;241m.\u001B[39mreference_id, products_train)), \\\n\u001B[0;32m     40\u001B[0m                           accuracy(master_model\u001B[38;5;241m.\u001B[39mpredict(products_test), \u001B[38;5;28mmap\u001B[39m(\u001B[38;5;28;01mlambda\u001B[39;00m p: p\u001B[38;5;241m.\u001B[39mreference_id, products_test)),\n\u001B[0;32m     41\u001B[0m     \u001B[38;5;28mprint\u001B[39m(name, \u001B[38;5;124mf\u001B[39m\u001B[38;5;124m\"\u001B[39m\u001B[38;5;124mtrain: \u001B[39m\u001B[38;5;132;01m{\u001B[39;00mtrain_acc\u001B[38;5;132;01m}\u001B[39;00m\u001B[38;5;124m, test: \u001B[39m\u001B[38;5;132;01m{\u001B[39;00mtest_acc\u001B[38;5;132;01m}\u001B[39;00m\u001B[38;5;124m\"\u001B[39m)\n",
      "File \u001B[1;32m~\\DataspellProjects\\hack\\agora\\model.py:60\u001B[0m, in \u001B[0;36mProductMatchingModel.fit\u001B[1;34m(self, all_products)\u001B[0m\n\u001B[0;32m     57\u001B[0m \u001B[38;5;28;01mdef\u001B[39;00m \u001B[38;5;21mfit\u001B[39m(\u001B[38;5;28mself\u001B[39m, all_products: [Product]):\n\u001B[0;32m     58\u001B[0m     refs, prods \u001B[38;5;241m=\u001B[39m preprocess\u001B[38;5;241m.\u001B[39mseparate_references(all_products)\n\u001B[1;32m---> 60\u001B[0m     \u001B[38;5;28;43mself\u001B[39;49m\u001B[38;5;241;43m.\u001B[39;49m\u001B[43m_fit_reference_classifier\u001B[49m\u001B[43m(\u001B[49m\u001B[43mrefs\u001B[49m\u001B[43m,\u001B[49m\u001B[43m \u001B[49m\u001B[43mall_products\u001B[49m\u001B[43m)\u001B[49m\n\u001B[0;32m     62\u001B[0m     refs_half_1, refs_half_2 \u001B[38;5;241m=\u001B[39m train_test_split(refs, test_size\u001B[38;5;241m=\u001B[39m\u001B[38;5;241m0.5\u001B[39m, random_state\u001B[38;5;241m=\u001B[39m\u001B[38;5;241m42\u001B[39m)\n\u001B[0;32m     63\u001B[0m     \u001B[38;5;28mself\u001B[39m\u001B[38;5;241m.\u001B[39m_fit_unknown_classifier(\u001B[38;5;28mself\u001B[39m\u001B[38;5;241m.\u001B[39munknown_classifier_1, refs_half_1, refs_half_2, prods)\n",
      "File \u001B[1;32m~\\DataspellProjects\\hack\\agora\\model.py:76\u001B[0m, in \u001B[0;36mProductMatchingModel._fit_reference_classifier\u001B[1;34m(self, refs, all_products)\u001B[0m\n\u001B[0;32m     74\u001B[0m corpus \u001B[38;5;241m=\u001B[39m preprocess\u001B[38;5;241m.\u001B[39mproducts2corpus(all_products)\n\u001B[0;32m     75\u001B[0m x \u001B[38;5;241m=\u001B[39m \u001B[38;5;28mself\u001B[39m\u001B[38;5;241m.\u001B[39mvectorizer\u001B[38;5;241m.\u001B[39mfit_transform(corpus)\u001B[38;5;241m.\u001B[39mtoarray()\n\u001B[1;32m---> 76\u001B[0m y_ref \u001B[38;5;241m=\u001B[39m \u001B[43mpreprocess\u001B[49m\u001B[38;5;241;43m.\u001B[39;49m\u001B[43mbuild_reference_target\u001B[49m\u001B[43m(\u001B[49m\u001B[43mrefs\u001B[49m\u001B[43m,\u001B[49m\u001B[43m \u001B[49m\u001B[43mall_products\u001B[49m\u001B[43m)\u001B[49m\n\u001B[0;32m     78\u001B[0m \u001B[38;5;28mself\u001B[39m\u001B[38;5;241m.\u001B[39mreference_classifier\u001B[38;5;241m.\u001B[39mfit(x, y_ref)\n",
      "File \u001B[1;32m~\\DataspellProjects\\hack\\agora\\preprocess.py:27\u001B[0m, in \u001B[0;36mbuild_reference_target\u001B[1;34m(references, products)\u001B[0m\n\u001B[0;32m     21\u001B[0m \u001B[38;5;28;01mdef\u001B[39;00m \u001B[38;5;21mbuild_reference_target\u001B[39m(references: List[Product], products: List[Product]) \u001B[38;5;241m-\u001B[39m\u001B[38;5;241m>\u001B[39m npt\u001B[38;5;241m.\u001B[39mNDArray[\u001B[38;5;28mint\u001B[39m]:\n\u001B[0;32m     22\u001B[0m     \u001B[38;5;66;03m# Построим таргет сет, номером класса будет индекс эталона в изначальном сете\u001B[39;00m\n\u001B[0;32m     23\u001B[0m     ref_id2ind \u001B[38;5;241m=\u001B[39m {\n\u001B[0;32m     24\u001B[0m         ref\u001B[38;5;241m.\u001B[39mproduct_id: i \u001B[38;5;28;01mfor\u001B[39;00m i, ref \u001B[38;5;129;01min\u001B[39;00m \u001B[38;5;28menumerate\u001B[39m(references)\n\u001B[0;32m     25\u001B[0m     }\n\u001B[1;32m---> 27\u001B[0m     \u001B[38;5;28;01mreturn\u001B[39;00m np\u001B[38;5;241m.\u001B[39marray([\n\u001B[0;32m     28\u001B[0m         ref_id2ind[p\u001B[38;5;241m.\u001B[39mproduct_id \u001B[38;5;28;01mif\u001B[39;00m p\u001B[38;5;241m.\u001B[39mis_reference \u001B[38;5;28;01melse\u001B[39;00m p\u001B[38;5;241m.\u001B[39mreference_id] \u001B[38;5;28;01mfor\u001B[39;00m p \u001B[38;5;129;01min\u001B[39;00m products\n\u001B[0;32m     29\u001B[0m     ])\n",
      "File \u001B[1;32m~\\DataspellProjects\\hack\\agora\\preprocess.py:28\u001B[0m, in \u001B[0;36m<listcomp>\u001B[1;34m(.0)\u001B[0m\n\u001B[0;32m     21\u001B[0m \u001B[38;5;28;01mdef\u001B[39;00m \u001B[38;5;21mbuild_reference_target\u001B[39m(references: List[Product], products: List[Product]) \u001B[38;5;241m-\u001B[39m\u001B[38;5;241m>\u001B[39m npt\u001B[38;5;241m.\u001B[39mNDArray[\u001B[38;5;28mint\u001B[39m]:\n\u001B[0;32m     22\u001B[0m     \u001B[38;5;66;03m# Построим таргет сет, номером класса будет индекс эталона в изначальном сете\u001B[39;00m\n\u001B[0;32m     23\u001B[0m     ref_id2ind \u001B[38;5;241m=\u001B[39m {\n\u001B[0;32m     24\u001B[0m         ref\u001B[38;5;241m.\u001B[39mproduct_id: i \u001B[38;5;28;01mfor\u001B[39;00m i, ref \u001B[38;5;129;01min\u001B[39;00m \u001B[38;5;28menumerate\u001B[39m(references)\n\u001B[0;32m     25\u001B[0m     }\n\u001B[0;32m     27\u001B[0m     \u001B[38;5;28;01mreturn\u001B[39;00m np\u001B[38;5;241m.\u001B[39marray([\n\u001B[1;32m---> 28\u001B[0m         \u001B[43mref_id2ind\u001B[49m\u001B[43m[\u001B[49m\u001B[43mp\u001B[49m\u001B[38;5;241;43m.\u001B[39;49m\u001B[43mproduct_id\u001B[49m\u001B[43m \u001B[49m\u001B[38;5;28;43;01mif\u001B[39;49;00m\u001B[43m \u001B[49m\u001B[43mp\u001B[49m\u001B[38;5;241;43m.\u001B[39;49m\u001B[43mis_reference\u001B[49m\u001B[43m \u001B[49m\u001B[38;5;28;43;01melse\u001B[39;49;00m\u001B[43m \u001B[49m\u001B[43mp\u001B[49m\u001B[38;5;241;43m.\u001B[39;49m\u001B[43mreference_id\u001B[49m\u001B[43m]\u001B[49m \u001B[38;5;28;01mfor\u001B[39;00m p \u001B[38;5;129;01min\u001B[39;00m products\n\u001B[0;32m     29\u001B[0m     ])\n",
      "\u001B[1;31mKeyError\u001B[0m: 'fdff5884f8e0cdaf'"
     ]
    }
   ],
   "source": [
    "from sklearn.linear_model import LogisticRegression\n",
    "from sklearn.ensemble import RandomForestClassifier, VotingClassifier\n",
    "from sklearn.svm import LinearSVC\n",
    "from sklearn.naive_bayes import MultinomialNB\n",
    "from sklearn.linear_model import RidgeClassifier, SGDClassifier\n",
    "from sklearn.base import ClassifierMixin\n",
    "from sklearn.tree import DecisionTreeClassifier\n",
    "from sklearn.ensemble import GradientBoostingClassifier\n",
    "from sklearn.base import clone\n",
    "\n",
    "from sklearn.feature_extraction.text import TfidfVectorizer\n",
    "from spacy.lang.en import STOP_WORDS as EN_STOP_WORDS\n",
    "from spacy.lang.ru import STOP_WORDS as RU_STOP_WORDS\n",
    "\n",
    "import pandas as pd\n",
    "import plotly.express as px\n",
    "\n",
    "from model import ProductMatchingModel\n",
    "\n",
    "use_models = [\n",
    "\n",
    "    RandomForestClassifier(random_state=0),\n",
    "    LinearSVC(max_iter=4000),\n",
    "    MultinomialNB(),\n",
    "    LogisticRegression(random_state=0, max_iter=400),\n",
    "    RidgeClassifier(normalize=True),\n",
    "    SGDClassifier(warm_start=True),\n",
    "    DecisionTreeClassifier(),\n",
    "    #GradientBoostingClassifier() # too long\n",
    "]\n",
    "\n",
    "models = list(zip(map(lambda m: m.__class__.__name__, use_models), use_models)) # now its [(name, model), ...]\n",
    "\n",
    "model_tests_df = []\n",
    "for name, model in models:\n",
    "    master_model = ProductMatchingModel(RidgeClassifier(alpha=1.9), clone(model), clone(model),\n",
    "                                        vectorizer=TfidfVectorizer(stop_words=RU_STOP_WORDS or EN_STOP_WORDS))\n",
    "    master_model.fit(all_products)\n",
    "    train_acc, test_acc = accuracy(master_model.predict(products_train), map(lambda p: p.reference_id, products_train)), \\\n",
    "                          accuracy(master_model.predict(products_test), map(lambda p: p.reference_id, products_test)),\n",
    "    print(name, f\"train: {train_acc}, test: {test_acc}\")\n",
    "    model_tests_df.append([name, train_acc, test_acc])\n",
    "\n",
    "model_tests_df = pd.DataFrame(model_tests_df, columns=['name', 'train_acc', 'test_acc'])\n",
    "\n",
    "bar = px.bar(model_tests_df, x='name', y=['train_acc', 'test_acc'], barmode='group', log_y=True)\n",
    "bar.show()"
   ],
   "metadata": {
    "collapsed": false,
    "pycharm": {
     "name": "#%%\n"
    }
   }
  },
  {
   "cell_type": "code",
   "execution_count": null,
   "outputs": [],
   "source": [],
   "metadata": {
    "collapsed": false,
    "pycharm": {
     "name": "#%%\n"
    }
   }
  },
  {
   "cell_type": "code",
   "execution_count": 33,
   "outputs": [
    {
     "name": "stdout",
     "output_type": "stream",
     "text": [
      "0.6189127972819932 0.7218855218855219\n"
     ]
    }
   ],
   "source": [
    "from sklearn.svm import SVC\n",
    "from sklearn.feature_extraction.text import TfidfVectorizer, CountVectorizer\n",
    "from sklearn.linear_model import RidgeClassifier\n",
    "from spacy.lang.en import STOP_WORDS as EN_STOP_WORDS\n",
    "from spacy.lang.ru import STOP_WORDS as RU_STOP_WORDS\n",
    "\n",
    "from model import ProductMatchingModel\n",
    "\n",
    "\n",
    "model = ProductMatchingModel(RidgeClassifier(alpha=0.1), SVC(kernel='linear', C=0.1), SVC(kernel='linear', C=0.1),\n",
    "                             TfidfVectorizer(stop_words=RU_STOP_WORDS or EN_STOP_WORDS))\n",
    "\n",
    "model.fit(all_products)\n",
    "\n",
    "print(accuracy(model.predict(all_products), map(lambda p: p.reference_id, all_products)),\n",
    "accuracy(model.predict(products_test), map(lambda p: p.reference_id, products_test)))"
   ],
   "metadata": {
    "collapsed": false,
    "pycharm": {
     "name": "#%%\n"
    }
   }
  },
  {
   "cell_type": "code",
   "execution_count": null,
   "outputs": [],
   "source": [],
   "metadata": {
    "collapsed": false,
    "pycharm": {
     "name": "#%%\n"
    }
   }
  },
  {
   "cell_type": "code",
   "execution_count": null,
   "outputs": [],
   "source": [],
   "metadata": {
    "collapsed": false,
    "pycharm": {
     "name": "#%%\n"
    }
   }
  },
  {
   "cell_type": "code",
   "execution_count": 14,
   "outputs": [
    {
     "data": {
      "text/plain": "[('3506a28b65ac9e2b', None),\n ('b91a686bdeee3b59', None),\n ('94e5f00c4138bbf8', '6af522dbaebbe215'),\n ('15cb3a27705c8a79', None),\n ('516c4c0cca619ea4', '563d494021391f6f'),\n ('938fd7feb4447953', None),\n ('3ef0e6e982996562', 'ec95d0b2bf54abf4'),\n ('3957c93dce19b3fe', '690e287b3c850d7c'),\n ('1253c3296a3c0153', '698c7fc4d748a8e1'),\n ('7810daae8a7e7fba', '20ba2dcb69e1e35a'),\n ('8cf1b9c715f9a13f', '6161c9b880b9622c'),\n ('6641efda5eea8e32', 'df8dbcf0d4e381e6'),\n ('7810daae8a7e7fba', '20ba2dcb69e1e35a'),\n ('f325184a5c99c599', None),\n ('6f205028762b6145', None),\n ('80abb5aed92419c1', None),\n ('0be9800a9a538231', '78a87eb0e0365083'),\n ('516c4c0cca619ea4', 'e8f7590b4c24fdbf'),\n ('b91a686bdeee3b59', None),\n ('7810daae8a7e7fba', '20ba2dcb69e1e35a'),\n ('d0c64830aa5b693c', None),\n ('715017d68a89f1b1', None),\n ('32a7b966f7ab8c72', None),\n ('d4ebc4a26700d5e0', '563d494021391f6f'),\n ('1d56acfbc4983b65', None),\n ('dcaa0047e36b83d4', '81b6691e5d2c752f'),\n ('5de19e78cb7b902f', '108edf8f1054d7d4'),\n ('ea2228931c428185', '81b6691e5d2c752f'),\n ('3506a28b65ac9e2b', None),\n ('8612bdb4fe798b2f', None),\n ('abe138723279f9af', None),\n ('c74b2d4c1e6a99b3', None),\n ('6723766c4478d88b', None),\n ('108edf8f1054d7d4', None),\n ('117f01fe96fc2b89', '161fca3b6bcf5fcc'),\n ('f5cbd4fcc8474730', None),\n ('88acf0e46386f61d', None),\n ('b6f6e9b5ead263ae', 'd7d28d1201ba8bde'),\n ('5de19e78cb7b902f', '58330809dae8fcad'),\n ('a05ae39cb2ace0f4', None),\n ('6d65b7363fdef730', None),\n ('a62ac35841239177', None),\n ('c24cbf788d7f1d47', None),\n ('c24cbf788d7f1d47', 'cdbe98a45d95d962'),\n ('938fd7feb4447953', None),\n ('b91a686bdeee3b59', None),\n ('664b48a4aafdf9cf', None),\n ('80fdbdcfcaae3448', None),\n ('377541fb839e74c8', None),\n ('f67deaee31597443', None),\n ('d3f1c49998c771f3', None),\n ('59ffd7e4452b90b8', '78a87eb0e0365083'),\n ('ea2228931c428185', None),\n ('6d65b7363fdef730', None),\n ('70dda99f86242098', None),\n ('ae0ded178481d783', 'fdff5884f8e0cdaf'),\n ('f67deaee31597443', None),\n ('1d56acfbc4983b65', None),\n ('7810daae8a7e7fba', '20ba2dcb69e1e35a'),\n ('7e0aa20dfe462648', 'a51a43ae8ef6ec5d'),\n ('c5a26ac6308a0d11', None),\n ('f440de22d764b2a3', None),\n ('f325184a5c99c599', None),\n ('d75d646df7e9e2bb', '78a87eb0e0365083'),\n ('5da1e1dbd653ddae', None),\n ('664b48a4aafdf9cf', None),\n ('f6d45c3ab6c52946', '619891c75facdfd3'),\n ('80fdbdcfcaae3448', None),\n ('01a28e17323d6ef8', '6723766c4478d88b'),\n ('70dda99f86242098', None),\n ('2fb0f64b2f454ce5', None),\n ('377541fb839e74c8', 'b9df41642d81ecf1'),\n ('7e0aa20dfe462648', '1320d9871e0e41e1'),\n ('b91a686bdeee3b59', None),\n ('cfc2b5f5c0fa69dd', 'cd378ed756aa2882'),\n ('c1ba3c0a199ab1a2', '690e287b3c850d7c'),\n ('88acf0e46386f61d', None),\n ('c9a0918e91a98305', None),\n ('dcaa0047e36b83d4', None),\n ('80abb5aed92419c1', None),\n ('0be9800a9a538231', None),\n ('3abd00f4ca1adfcc', None),\n ('e890f739eb760654', 'ab2448c31b563b2e'),\n ('5277163b1a2099dd', None),\n ('abe138723279f9af', None),\n ('0be9800a9a538231', None),\n ('664b48a4aafdf9cf', None),\n ('b1d0b61573ff0b3f', '26cd2d13903ad9b9'),\n ('ea2228931c428185', None),\n ('80fdbdcfcaae3448', '40037632f88f0617'),\n ('471b8b5f9c648910', 'f0fc718b6d6c7d8e'),\n ('3e67027c91e41af1', '729f1b1e59600803'),\n ('377312a4a7d64f81', None),\n ('f440de22d764b2a3', None),\n ('abe138723279f9af', None),\n ('f67deaee31597443', None),\n ('7e6e34bdb1103b4d', None),\n ('c74b2d4c1e6a99b3', None),\n ('3770f7338ab697da', '3f844bec1d74466d'),\n ('187f86e9f768ebeb', '54f849cca17ad46c'),\n ('f497219eb0077f84', None),\n ('516c4c0cca619ea4', '563d494021391f6f'),\n ('c24cbf788d7f1d47', 'cdbe98a45d95d962'),\n ('ff5da4be6fa60c4b', None),\n ('7daa2feb09ae2f1b', 'd75d646df7e9e2bb'),\n ('4f9bf73be63fa349', None),\n ('5a8702ae15ccd6df', None),\n ('01601abb0bf5133d', None),\n ('d3f1c49998c771f3', None),\n ('528e3d99bf396149', None),\n ('4f9bf73be63fa349', None),\n ('de666c1df1cfda43', None),\n ('443fbb7739d5eccb', 'c09a5711e558f38f'),\n ('b91a686bdeee3b59', None),\n ('983409b96758b510', None),\n ('3957c93dce19b3fe', '690e287b3c850d7c'),\n ('a75cab6d9c61065e', '31862a08efb59198'),\n ('8b69cc8b592abddf', None),\n ('0229abcf2ded1058', None),\n ('0be9800a9a538231', '2215bb3c753bac5a'),\n ('b91a686bdeee3b59', None),\n ('cf0fa4f752feaed4', None),\n ('d75d646df7e9e2bb', None),\n ('65d0a61465fb389b', None),\n ('a05ae39cb2ace0f4', None),\n ('b3776edba7cd2247', None),\n ('938fd7feb4447953', None),\n ('05a95e7066dc4c52', None),\n ('3fc7aa1177989cca', None),\n ('19a0e085f1c80eb6', '1eca353c3aaa0108'),\n ('2e9d9df33a9c55f0', None),\n ('f325184a5c99c599', None),\n ('65d0a61465fb389b', None),\n ('377541fb839e74c8', None),\n ('ea2228931c428185', '177ccb3b84125efa'),\n ('664b48a4aafdf9cf', None),\n ('cf32ba7dd3343a4f', None),\n ('516c4c0cca619ea4', None),\n ('b05babdc653dcd9d', None),\n ('343e6f18eed4247e', None),\n ('f67deaee31597443', None),\n ('80fdbdcfcaae3448', '40037632f88f0617'),\n ('80fdbdcfcaae3448', None),\n ('938fd7feb4447953', None),\n ('8b3925c2f2a210c5', None),\n ('8e24de4e8777d93a', None),\n ('7b2f56fdae6e4b69', '0229abcf2ded1058'),\n ('3d97593a7a33e57a', 'c5a26ac6308a0d11'),\n ('7daa2feb09ae2f1b', None),\n ('b74de9b0b28590b4', '3914651e72846423'),\n ('983409b96758b510', '01e52344308143f6'),\n ('ff5da4be6fa60c4b', None),\n ('1d710b10c62c6a00', None),\n ('d4ebc4a26700d5e0', '349fdfb870581e8c'),\n ('0083737f904dd9a9', None),\n ('abe138723279f9af', None),\n ('09824205ce94d7c9', '343e6f18eed4247e'),\n ('3506a28b65ac9e2b', None),\n ('0083737f904dd9a9', None),\n ('983409b96758b510', '01e52344308143f6'),\n ('187f86e9f768ebeb', '54f849cca17ad46c'),\n ('94e5f00c4138bbf8', None),\n ('ea2228931c428185', '81b6691e5d2c752f'),\n ('6a8af20af594f8f6', 'c14d00955ff5ffd7'),\n ('8f9c8fcf9cb2862c', None),\n ('f67deaee31597443', None),\n ('7d0876a6abed076a', None),\n ('0c5ac0f8d296c43a', None),\n ('9317f988ff2328d5', None),\n ('b91a686bdeee3b59', None),\n ('664b48a4aafdf9cf', None),\n ('664b48a4aafdf9cf', None),\n ('3fc7aa1177989cca', None),\n ('66111416e7cce47c', '859f1dd7a649560e'),\n ('648c6e1504a4e7cd', 'cdbe98a45d95d962'),\n ('59ffd7e4452b90b8', 'c293089bc63254cd'),\n ('80fdbdcfcaae3448', None),\n ('70dda99f86242098', None),\n ('b91a686bdeee3b59', None),\n ('648c6e1504a4e7cd', None),\n ('8cf1b9c715f9a13f', 'fee1d1dc53f135d1'),\n ('d5f74488ca1cd971', '40fb45575beccb56'),\n ('664b48a4aafdf9cf', None),\n ('938fd7feb4447953', None),\n ('f6d45c3ab6c52946', '619891c75facdfd3'),\n ('7810daae8a7e7fba', '20ba2dcb69e1e35a'),\n ('79365b00febf391b', '64056890cc4af17f'),\n ('c74b2d4c1e6a99b3', None),\n ('b91a686bdeee3b59', '26cd2d13903ad9b9'),\n ('d4ebc4a26700d5e0', None),\n ('b05babdc653dcd9d', '4bdecd6785970f05'),\n ('f5cbd4fcc8474730', None),\n ('7e0aa20dfe462648', 'a51a43ae8ef6ec5d'),\n ('9c2ebb2b8b07cad2', '1320d9871e0e41e1'),\n ('2fb0f64b2f454ce5', None),\n ('6641efda5eea8e32', 'df8dbcf0d4e381e6'),\n ('3abd00f4ca1adfcc', '78a87eb0e0365083'),\n ('b941b65ba33a29a0', 'a51a43ae8ef6ec5d'),\n ('7e0aa20dfe462648', '6a275666ebb5de0a'),\n ('07d12ec5a962c925', None),\n ('b05babdc653dcd9d', '4bdecd6785970f05'),\n ('c8cf6b65761ea1ef', 'd57236931190ee4f'),\n ('be85c7f8554f16c0', 'fdff5884f8e0cdaf'),\n ('f325184a5c99c599', None),\n ('3ef0e6e982996562', 'ec95d0b2bf54abf4'),\n ('6d65b7363fdef730', None),\n ('c74b2d4c1e6a99b3', None),\n ('776d4db26cb2e451', None),\n ('7e0aa20dfe462648', '1320d9871e0e41e1'),\n ('b05babdc653dcd9d', '4bdecd6785970f05'),\n ('e5542a95bc882c43', None),\n ('bdcbf9f316fe0125', 'ed65d39d41aeab0e'),\n ('b05babdc653dcd9d', '4bdecd6785970f05'),\n ('0e98903bc50f96a4', None),\n ('b91a686bdeee3b59', None),\n ('66111416e7cce47c', 'bcad9e86686f9bdb'),\n ('d0c64830aa5b693c', None),\n ('b74de9b0b28590b4', 'e2e227ddf732c1ca'),\n ('cb4a51946d773a5a', None),\n ('94e5f00c4138bbf8', None),\n ('471b8b5f9c648910', 'f0fc718b6d6c7d8e'),\n ('70dda99f86242098', None),\n ('c74b2d4c1e6a99b3', None),\n ('8cf1b9c715f9a13f', 'fee1d1dc53f135d1'),\n ('8b69cc8b592abddf', None),\n ('648c6e1504a4e7cd', None),\n ('3548c7f528527e95', '6161c9b880b9622c'),\n ('80fdbdcfcaae3448', None),\n ('1d710b10c62c6a00', None),\n ('9158a4c6707ede74', None),\n ('cfc2b5f5c0fa69dd', None),\n ('2f92010236ee9319', '3957c93dce19b3fe'),\n ('05a95e7066dc4c52', None),\n ('8469af0c1005c7f2', None),\n ('d5f74488ca1cd971', '40fb45575beccb56'),\n ('37b6e131f080f0da', None),\n ('86d39bd34b8f5e23', 'fee1d1dc53f135d1'),\n ('bd828d1ddcec8c48', 'a62ac35841239177'),\n ('f67deaee31597443', None),\n ('6a8af20af594f8f6', 'c14d00955ff5ffd7'),\n ('c2e78a61139bb6ce', None),\n ('bd828d1ddcec8c48', '40fb45575beccb56'),\n ('80fdbdcfcaae3448', None),\n ('443fbb7739d5eccb', 'c09a5711e558f38f'),\n ('c24cbf788d7f1d47', 'cdbe98a45d95d962'),\n ('80fdbdcfcaae3448', '40037632f88f0617'),\n ('a05ae39cb2ace0f4', '7b2f56fdae6e4b69'),\n ('983409b96758b510', '01e52344308143f6'),\n ('80abb5aed92419c1', None),\n ('f9fc2a8afa5b2ff5', None),\n ('28085e941cde1639', None),\n ('1f3709ce593ece4a', None),\n ('4f9bf73be63fa349', None),\n ('0083737f904dd9a9', None),\n ('94e5f00c4138bbf8', '6af522dbaebbe215'),\n ('f67deaee31597443', None),\n ('80fdbdcfcaae3448', None),\n ('3506a28b65ac9e2b', None),\n ('872a4e660493748b', None),\n ('cb4a51946d773a5a', None),\n ('443fbb7739d5eccb', 'c09a5711e558f38f'),\n ('7d0876a6abed076a', None),\n ('0c5ac0f8d296c43a', None),\n ('f5cbd4fcc8474730', None),\n ('b91a686bdeee3b59', None),\n ('c24cbf788d7f1d47', 'cdbe98a45d95d962'),\n ('de666c1df1cfda43', None),\n ('b74de9b0b28590b4', '3914651e72846423'),\n ('654fe5d10e55bbeb', None),\n ('87a78dfb2fbdff0c', None),\n ('de666c1df1cfda43', None),\n ('c24cbf788d7f1d47', 'cdbe98a45d95d962'),\n ('b3776edba7cd2247', None),\n ('2d779b8a8ff7d278', None),\n ('b91a686bdeee3b59', None),\n ('776d4db26cb2e451', None),\n ('cf0fa4f752feaed4', None),\n ('2e9d9df33a9c55f0', None),\n ('f67deaee31597443', None),\n ('7d0876a6abed076a', None),\n ('a05ae39cb2ace0f4', None),\n ('168bf704bf291d84', None),\n ('f497219eb0077f84', None),\n ('c74b2d4c1e6a99b3', None),\n ('d3f1c49998c771f3', '1d710b10c62c6a00'),\n ('187f86e9f768ebeb', '54f849cca17ad46c'),\n ('c24cbf788d7f1d47', 'cdbe98a45d95d962'),\n ('ea2228931c428185', '81b6691e5d2c752f'),\n (None, 'c94038ffa1a33df2'),\n ('3e67027c91e41af1', '729f1b1e59600803'),\n ('b91a686bdeee3b59', None),\n ('565cd2e69b1fcdca', None),\n ('e0ec83be2c57721d', None),\n ('d0c64830aa5b693c', None),\n ('7e0aa20dfe462648', '1320d9871e0e41e1'),\n ('471b8b5f9c648910', 'f0fc718b6d6c7d8e'),\n ('6641efda5eea8e32', None),\n (None, '8b69cc8b592abddf'),\n ('5a8702ae15ccd6df', None),\n ('d5f74488ca1cd971', '40fb45575beccb56'),\n ('6eaa6834dbf86212', '93bc07ff850e71d0'),\n ('d3f1c49998c771f3', None),\n ('65ae4c1d834dd1c3', None),\n ('664b48a4aafdf9cf', None),\n ('b91a686bdeee3b59', None),\n ('c293089bc63254cd', '3abd00f4ca1adfcc'),\n ('abe138723279f9af', None),\n ('f67deaee31597443', None),\n ('b91a686bdeee3b59', None),\n ('f67deaee31597443', None),\n ('c74b2d4c1e6a99b3', None),\n ('f9fc2a8afa5b2ff5', None),\n ('2ce6f8d283aa69c5', None),\n ('1d56acfbc4983b65', None),\n ('3548c7f528527e95', '6161c9b880b9622c'),\n ('377541fb839e74c8', 'b9df41642d81ecf1'),\n ('b33b2e069b9d7cf9', None),\n ('2d779b8a8ff7d278', None),\n ('f67deaee31597443', None),\n ('b91a686bdeee3b59', None),\n ('f1d7a6de205f4c9e', None),\n (None, '3506a28b65ac9e2b'),\n ('0db4a3bd5db1f203', None),\n ('c9a0918e91a98305', None),\n ('516c4c0cca619ea4', 'e8f7590b4c24fdbf'),\n ('0c5ac0f8d296c43a', None),\n ('471b8b5f9c648910', 'f0fc718b6d6c7d8e'),\n ('6d65b7363fdef730', None),\n ('b91a686bdeee3b59', None),\n ('3e67027c91e41af1', '729f1b1e59600803'),\n ('66111416e7cce47c', '364c0875ba59dbbb'),\n ('b33b2e069b9d7cf9', None),\n ('b91a686bdeee3b59', None),\n ('d5f74488ca1cd971', '938fd7feb4447953'),\n ('05cb692a7fd6c0e6', None),\n ('29fe74264baec52c', '938fd7feb4447953'),\n ('872a4e660493748b', None),\n ('d0615796a24cb300', None),\n ('15cb3a27705c8a79', None),\n ('54f849cca17ad46c', None),\n ('168bf704bf291d84', None),\n ('1eca353c3aaa0108', None),\n ('94e5f00c4138bbf8', None),\n ('f497219eb0077f84', None),\n ('872a4e660493748b', None),\n ('528e3d99bf396149', None),\n ('94e5f00c4138bbf8', None),\n ('5da1e1dbd653ddae', None),\n ('a05ae39cb2ace0f4', None),\n ('79365b00febf391b', None),\n ('1d710b10c62c6a00', None),\n ('f67deaee31597443', None),\n ('d4ebc4a26700d5e0', None),\n ('377312a4a7d64f81', None),\n ('4850871069f9073a', None),\n ('5fa45f2e58a4b6d6', '7fc4b6b8b93509c0'),\n ('443fbb7739d5eccb', 'c09a5711e558f38f'),\n ('3506a28b65ac9e2b', None),\n ('7d0876a6abed076a', None),\n ('a97b2ca22a6393b3', '501b4ad757268238'),\n ('b91a686bdeee3b59', None),\n ('a05ae39cb2ace0f4', None),\n ('0db4a3bd5db1f203', None),\n ('ff5da4be6fa60c4b', None),\n ('c2e78a61139bb6ce', None),\n ('cfc2b5f5c0fa69dd', None),\n ('1d710b10c62c6a00', None),\n ('bdcbf9f316fe0125', None),\n ('87a78dfb2fbdff0c', None),\n ('872a4e660493748b', None),\n ('3478f4ee87d43aee', None),\n ('d0c64830aa5b693c', None),\n ('05cb692a7fd6c0e6', None),\n ('a05ae39cb2ace0f4', None),\n ('88acf0e46386f61d', None),\n ('528e3d99bf396149', None),\n ('8b3925c2f2a210c5', None),\n ('3fc7aa1177989cca', None),\n ('2e9d9df33a9c55f0', None),\n ('3478f4ee87d43aee', None),\n ('938fd7feb4447953', None),\n ('ea223ca919e2f464', None),\n ('65ae4c1d834dd1c3', None),\n ('6723766c4478d88b', None),\n ('d4ebc4a26700d5e0', None),\n ('3506a28b65ac9e2b', None),\n ('80abb5aed92419c1', None),\n ('f67deaee31597443', None),\n ('648c6e1504a4e7cd', None),\n ('8b3925c2f2a210c5', None),\n ('79365b00febf391b', None),\n ('15cb3a27705c8a79', None),\n ('d3f1c49998c771f3', None),\n ('65d0a61465fb389b', None),\n ('938fd7feb4447953', None),\n ('b33b2e069b9d7cf9', None),\n ('c74b2d4c1e6a99b3', None),\n ('7d0876a6abed076a', None),\n ('5277163b1a2099dd', None),\n ('3506a28b65ac9e2b', None),\n ('b91a686bdeee3b59', None),\n ('df8dbcf0d4e381e6', None),\n ('664b48a4aafdf9cf', None),\n ('01601abb0bf5133d', None),\n ('d0615796a24cb300', None),\n ('1d710b10c62c6a00', None),\n ('1d56acfbc4983b65', None),\n ('8b69cc8b592abddf', None),\n ('80fdbdcfcaae3448', None),\n ('15cb3a27705c8a79', None),\n ('f1d7a6de205f4c9e', None),\n ('ea2228931c428185', None),\n ('cb4a51946d773a5a', None),\n ('54f849cca17ad46c', None),\n ('cf0fa4f752feaed4', None),\n ('f5cbd4fcc8474730', None),\n ('343e6f18eed4247e', None),\n ('0e98903bc50f96a4', None),\n ('0083737f904dd9a9', None),\n ('3abd00f4ca1adfcc', None),\n ('f325184a5c99c599', None),\n ('65d0a61465fb389b', None),\n ('2fb0f64b2f454ce5', None),\n ('0607c04000d78548', None),\n ('df8dbcf0d4e381e6', None),\n ('2d779b8a8ff7d278', None),\n ('94e5f00c4138bbf8', None),\n ('377312a4a7d64f81', None),\n ('f67deaee31597443', None),\n ('b91a686bdeee3b59', None),\n ('d4fe7179ce05fe85', None),\n ('7d0876a6abed076a', None),\n ('94e5f00c4138bbf8', None),\n ('9317f988ff2328d5', None),\n ('6d65b7363fdef730', None),\n ('28085e941cde1639', None),\n ('94e5f00c4138bbf8', None),\n ('01601abb0bf5133d', None),\n ('938fd7feb4447953', None),\n ('715017d68a89f1b1', None),\n ('abe138723279f9af', None),\n ('3e67027c91e41af1', None)]"
     },
     "execution_count": 14,
     "metadata": {},
     "output_type": "execute_result"
    }
   ],
   "source": [
    "results = list(zip(model.predict(products_test), map(lambda p: p.reference_id, products_test)))\n",
    "[(a,b) for a,b in results if a != b]"
   ],
   "metadata": {
    "collapsed": false,
    "pycharm": {
     "name": "#%%\n"
    }
   }
  },
  {
   "cell_type": "code",
   "execution_count": null,
   "outputs": [],
   "source": [],
   "metadata": {
    "collapsed": false,
    "pycharm": {
     "name": "#%%\n"
    }
   }
  },
  {
   "cell_type": "code",
   "execution_count": null,
   "outputs": [],
   "source": [],
   "metadata": {
    "collapsed": false,
    "pycharm": {
     "name": "#%%\n"
    }
   }
  },
  {
   "cell_type": "code",
   "execution_count": null,
   "outputs": [],
   "source": [],
   "metadata": {
    "collapsed": false,
    "pycharm": {
     "name": "#%%\n"
    }
   }
  }
 ],
 "metadata": {
  "kernelspec": {
   "display_name": "Python 3",
   "language": "python",
   "name": "python3"
  },
  "language_info": {
   "codemirror_mode": {
    "name": "ipython",
    "version": 2
   },
   "file_extension": ".py",
   "mimetype": "text/x-python",
   "name": "python",
   "nbconvert_exporter": "python",
   "pygments_lexer": "ipython2",
   "version": "2.7.6"
  }
 },
 "nbformat": 4,
 "nbformat_minor": 0
}